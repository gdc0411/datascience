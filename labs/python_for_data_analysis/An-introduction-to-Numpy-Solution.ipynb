{
 "cells": [
  {
   "cell_type": "markdown",
   "metadata": {},
   "source": [
    "# Numpy"
   ]
  },
  {
   "cell_type": "markdown",
   "metadata": {},
   "source": [
    "Unlike Matlab or R, Python is a general purpose programming language that was not designed for scientific computing or data analysis. For this purpose, we have to use the well known NumPy (Numerical Python) package. "
   ]
  },
  {
   "cell_type": "code",
   "execution_count": 2,
   "metadata": {
    "collapsed": false
   },
   "outputs": [],
   "source": [
    "import numpy as np\n",
    "\n",
    "def printbl(*args):\n",
    "    print(*args, '\\n')"
   ]
  },
  {
   "cell_type": "markdown",
   "metadata": {},
   "source": [
    "## References\n",
    "\n",
    "* Python for Data Analysis, Chapter 4, by Wes McKinney, O'REILLY\n",
    "* [NumPy Reference](http://docs.scipy.org/doc/numpy-dev/reference/index.html)"
   ]
  },
  {
   "cell_type": "markdown",
   "metadata": {},
   "source": [
    "## Multidimensional Array : ndarray"
   ]
  },
  {
   "cell_type": "markdown",
   "metadata": {},
   "source": [
    "Execute and explain (with comments) what follows. Compare the following thow cells. What do you conclude from this ?"
   ]
  },
  {
   "cell_type": "code",
   "execution_count": null,
   "metadata": {
    "collapsed": false
   },
   "outputs": [],
   "source": [
    "data1 = [6, 7.5, 8, 0, 1] \n",
    "print(type(data1))\n",
    "print(type(data1[0]))\n",
    "print(type(data1[1]))"
   ]
  },
  {
   "cell_type": "code",
   "execution_count": null,
   "metadata": {
    "collapsed": false
   },
   "outputs": [],
   "source": [
    "data2 = np.array([6, 7.5, 8, 0, 1])\n",
    "print(type(data2))\n",
    "print(type(data2[0]))\n",
    "print(type(data2[1]))"
   ]
  },
  {
   "cell_type": "markdown",
   "metadata": {},
   "source": [
    "Compare the following thow cells. What do you conclude from this ?"
   ]
  },
  {
   "cell_type": "code",
   "execution_count": null,
   "metadata": {
    "collapsed": false
   },
   "outputs": [],
   "source": [
    "data1 * 2"
   ]
  },
  {
   "cell_type": "code",
   "execution_count": null,
   "metadata": {
    "collapsed": false
   },
   "outputs": [],
   "source": [
    "data2 * 2"
   ]
  },
  {
   "cell_type": "markdown",
   "metadata": {},
   "source": [
    "What is the number of dimensions of the `ndarray` referred by `data4`?"
   ]
  },
  {
   "cell_type": "code",
   "execution_count": null,
   "metadata": {
    "collapsed": false
   },
   "outputs": [],
   "source": [
    "data3 = [[1, 2, 3], [4, 5]]\n",
    "data4 = np.array([[1, 2, 3], [4, 5]])\n",
    "print(data4)\n",
    "print(data4.shape)\n",
    "print(type(data4[0]))\n",
    "print(data4*10)"
   ]
  },
  {
   "cell_type": "markdown",
   "metadata": {},
   "source": [
    "What is the number of dimensions of the `ndarray` referred by `data5`?"
   ]
  },
  {
   "cell_type": "code",
   "execution_count": null,
   "metadata": {
    "collapsed": false
   },
   "outputs": [],
   "source": [
    "data5 = np.array([[1, 2, 3], [4, 5, 6]])\n",
    "print(data5)\n",
    "print(data5.shape)\n",
    "print(type(data5[0]))\n",
    "print(data5*10)\n"
   ]
  },
  {
   "cell_type": "markdown",
   "metadata": {},
   "source": [
    "What is the shape of the following `ndarray` ?"
   ]
  },
  {
   "cell_type": "code",
   "execution_count": null,
   "metadata": {
    "collapsed": false
   },
   "outputs": [],
   "source": [
    "data6 = np.array([[1, 2, 3], [4, 5, 6], [4, 5, 6], [4, 5, 6]])\n",
    "print(data6.ndim)"
   ]
  },
  {
   "cell_type": "markdown",
   "metadata": {},
   "source": [
    "### Indexing"
   ]
  },
  {
   "cell_type": "code",
   "execution_count": null,
   "metadata": {
    "collapsed": false
   },
   "outputs": [],
   "source": [
    "x = np.arange(10)\n",
    "print(id(x))\n",
    "x[2:7] = 8.6\n",
    "print(x)\n",
    "print(id(x))"
   ]
  },
  {
   "cell_type": "code",
   "execution_count": null,
   "metadata": {
    "collapsed": false
   },
   "outputs": [],
   "source": [
    "x = np.arange(10, dtype=np.float64)\n",
    "x[2:7] = 8.6\n",
    "print(x)\n",
    "x[:] = 1.2\n",
    "print(x)"
   ]
  },
  {
   "cell_type": "code",
   "execution_count": 1,
   "metadata": {
    "collapsed": false
   },
   "outputs": [
    {
     "ename": "NameError",
     "evalue": "name 'np' is not defined",
     "output_type": "error",
     "traceback": [
      "\u001b[0;31m---------------------------------------------------------------------------\u001b[0m",
      "\u001b[0;31mNameError\u001b[0m                                 Traceback (most recent call last)",
      "\u001b[0;32m<ipython-input-1-4426b059b782>\u001b[0m in \u001b[0;36m<module>\u001b[0;34m()\u001b[0m\n\u001b[0;32m----> 1\u001b[0;31m \u001b[0marr2d\u001b[0m \u001b[0;34m=\u001b[0m \u001b[0mnp\u001b[0m\u001b[0;34m.\u001b[0m\u001b[0marray\u001b[0m\u001b[0;34m(\u001b[0m\u001b[0;34m[\u001b[0m\u001b[0;34m[\u001b[0m\u001b[0;36m1\u001b[0m\u001b[0;34m,\u001b[0m \u001b[0;36m2\u001b[0m\u001b[0;34m,\u001b[0m \u001b[0;36m3\u001b[0m\u001b[0;34m]\u001b[0m\u001b[0;34m,\u001b[0m \u001b[0;34m[\u001b[0m\u001b[0;36m4\u001b[0m\u001b[0;34m,\u001b[0m \u001b[0;36m5\u001b[0m\u001b[0;34m,\u001b[0m \u001b[0;36m6\u001b[0m\u001b[0;34m]\u001b[0m\u001b[0;34m,\u001b[0m \u001b[0;34m[\u001b[0m\u001b[0;36m7\u001b[0m\u001b[0;34m,\u001b[0m \u001b[0;36m8\u001b[0m\u001b[0;34m,\u001b[0m \u001b[0;36m9\u001b[0m\u001b[0;34m]\u001b[0m\u001b[0;34m]\u001b[0m\u001b[0;34m)\u001b[0m\u001b[0;34m\u001b[0m\u001b[0m\n\u001b[0m\u001b[1;32m      2\u001b[0m \u001b[0mprint\u001b[0m\u001b[0;34m(\u001b[0m\u001b[0marr2d\u001b[0m\u001b[0;34m[\u001b[0m\u001b[0;36m0\u001b[0m\u001b[0;34m]\u001b[0m\u001b[0;34m[\u001b[0m\u001b[0;36m2\u001b[0m\u001b[0;34m]\u001b[0m\u001b[0;34m)\u001b[0m\u001b[0;34m\u001b[0m\u001b[0m\n\u001b[1;32m      3\u001b[0m \u001b[0mprint\u001b[0m\u001b[0;34m(\u001b[0m\u001b[0marr2d\u001b[0m\u001b[0;34m[\u001b[0m\u001b[0;36m0\u001b[0m\u001b[0;34m,\u001b[0m \u001b[0;36m2\u001b[0m\u001b[0;34m]\u001b[0m\u001b[0;34m)\u001b[0m\u001b[0;34m\u001b[0m\u001b[0m\n",
      "\u001b[0;31mNameError\u001b[0m: name 'np' is not defined"
     ]
    }
   ],
   "source": [
    "arr2d = np.array([[1, 2, 3], [4, 5, 6], [7, 8, 9]])\n",
    "print(arr2d[0][2])\n",
    "print(arr2d[0, 2])"
   ]
  },
  {
   "cell_type": "code",
   "execution_count": null,
   "metadata": {
    "collapsed": false
   },
   "outputs": [],
   "source": [
    "arr2d = np.array([[1, 2, 3], [4, 5, 6], [7, 8, 9]])\n",
    "print(arr2d)\n",
    "old_values = arr2d[0].copy()\n",
    "arr2d[0] = 42\n",
    "arr2d[0] = old_values\n",
    "print(arr2d)"
   ]
  },
  {
   "cell_type": "code",
   "execution_count": null,
   "metadata": {
    "collapsed": false
   },
   "outputs": [],
   "source": [
    "arr2d = np.array([[1, 2, 3], [4, 5, 6], [7, 8, 9]])\n",
    "print(arr2d)\n",
    "old_values = arr2d[0]\n",
    "arr2d[0] = 42\n",
    "arr2d[0] = old_values\n",
    "print(arr2d)"
   ]
  },
  {
   "cell_type": "code",
   "execution_count": null,
   "metadata": {
    "collapsed": false
   },
   "outputs": [],
   "source": [
    "arr2d = np.array([[1, 2, 3], [4, 5, 6], [7, 8, 9]])\n",
    "print(arr2d)\n",
    "arr2d[:, 2] = 7\n",
    "print(arr2d)"
   ]
  },
  {
   "cell_type": "markdown",
   "metadata": {},
   "source": [
    "### Boolean Indexing"
   ]
  },
  {
   "cell_type": "code",
   "execution_count": null,
   "metadata": {
    "collapsed": false
   },
   "outputs": [],
   "source": [
    "names = np.array(['Bob', 'Joe', 'Will', 'Bob', 'Will', 'Joe', 'Joe'])\n",
    "data = np.random.randn(7, 4)\n",
    "print(data)\n",
    "print(names == 'Bob')\n",
    "print(data[names == 'Bob'])\n",
    "print(data[(names == 'Bob') | (names == 'Will')])"
   ]
  },
  {
   "cell_type": "code",
   "execution_count": null,
   "metadata": {
    "collapsed": false
   },
   "outputs": [],
   "source": [
    "data = np.random.randn(7, 4)\n",
    "print(data)\n",
    "data[data < 0] = 0\n",
    "print(data)"
   ]
  },
  {
   "cell_type": "markdown",
   "metadata": {},
   "source": [
    "### Transposing"
   ]
  },
  {
   "cell_type": "code",
   "execution_count": null,
   "metadata": {
    "collapsed": false
   },
   "outputs": [],
   "source": [
    "X = np.arange(15).reshape((3, 5))\n",
    "printbl(X)\n",
    "print(X.T)"
   ]
  },
  {
   "cell_type": "markdown",
   "metadata": {},
   "source": [
    "### Swapping Axes"
   ]
  },
  {
   "cell_type": "code",
   "execution_count": null,
   "metadata": {
    "collapsed": false
   },
   "outputs": [],
   "source": [
    "X = np.arange(30).reshape((3, 10))\n",
    "print(X)\n",
    "np.swapaxes(X, 0, 1)"
   ]
  },
  {
   "cell_type": "code",
   "execution_count": null,
   "metadata": {
    "collapsed": false
   },
   "outputs": [],
   "source": [
    "X = np.arange(30).reshape((3, 2, 5))\n",
    "printbl(X[:,1,1])\n",
    "print(X[1,1,:])\n",
    "np.swapaxes(X, 0, 2)[:,1,1]"
   ]
  },
  {
   "cell_type": "markdown",
   "metadata": {},
   "source": [
    "### Numerical operations (Elementwise)"
   ]
  },
  {
   "cell_type": "code",
   "execution_count": null,
   "metadata": {
    "collapsed": false
   },
   "outputs": [],
   "source": [
    "X = np.zeros((3,6))\n",
    "print(X)\n",
    "\n",
    "print()\n",
    "\n",
    "X = X + 3\n",
    "print(X)"
   ]
  },
  {
   "cell_type": "code",
   "execution_count": null,
   "metadata": {
    "collapsed": false
   },
   "outputs": [],
   "source": [
    "Y = np.ones((3,6))\n",
    "X - Y"
   ]
  },
  {
   "cell_type": "code",
   "execution_count": null,
   "metadata": {
    "collapsed": false
   },
   "outputs": [],
   "source": [
    "x = np.array([1, 2, 3, 1.5])\n",
    "x * 2"
   ]
  },
  {
   "cell_type": "markdown",
   "metadata": {},
   "source": [
    "Let us compare the performance of these operations with Numpy and standard Python constructs :"
   ]
  },
  {
   "cell_type": "code",
   "execution_count": 14,
   "metadata": {
    "collapsed": false
   },
   "outputs": [
    {
     "name": "stdout",
     "output_type": "stream",
     "text": [
      "The slowest run took 19.35 times longer than the fastest. This could mean that an intermediate result is being cached.\n",
      "1000000 loops, best of 3: 850 ns per loop\n",
      "100000 loops, best of 3: 5.14 µs per loop\n"
     ]
    },
    {
     "data": {
      "text/plain": [
       "True"
      ]
     },
     "execution_count": 14,
     "metadata": {},
     "output_type": "execute_result"
    }
   ],
   "source": [
    "nparray = np.arange(100)\n",
    "%timeit nparray * 2\n",
    "\n",
    "pylist = range(100)\n",
    "%timeit [x * 2 for x in pylist]\n",
    "\n",
    "np.array_equal(nparray * 2, np.array([x * 2 for x in pylist]))"
   ]
  },
  {
   "cell_type": "code",
   "execution_count": null,
   "metadata": {
    "collapsed": false
   },
   "outputs": [],
   "source": [
    "print(np.ones((3,3)) - np.identity(3))"
   ]
  },
  {
   "cell_type": "code",
   "execution_count": null,
   "metadata": {
    "collapsed": false
   },
   "outputs": [],
   "source": [
    "empty_array = np.empty(8, dtype=np.float64)"
   ]
  },
  {
   "cell_type": "code",
   "execution_count": null,
   "metadata": {
    "collapsed": false
   },
   "outputs": [],
   "source": [
    "x = np.arange(10)\n",
    "x **= 2\n",
    "print(id(x))\n",
    "print(x)\n",
    "x = x ** 2\n",
    "print(id(x))\n",
    "print(x)"
   ]
  },
  {
   "cell_type": "code",
   "execution_count": null,
   "metadata": {
    "collapsed": false
   },
   "outputs": [],
   "source": [
    "X = np.arange(15).reshape((3, 5))\n",
    "printbl(X, )\n",
    "printbl(X * X) # Not matrix multiplication\n",
    "printbl(np.dot(X, X.T))\n",
    "printbl(np.sqrt(X))"
   ]
  },
  {
   "cell_type": "markdown",
   "metadata": {},
   "source": [
    "## Reductions"
   ]
  },
  {
   "cell_type": "markdown",
   "metadata": {},
   "source": [
    "Operations considered in this sections are known as reduction. In other words, these operations produce a single value from a 1D array."
   ]
  },
  {
   "cell_type": "code",
   "execution_count": null,
   "metadata": {
    "collapsed": false
   },
   "outputs": [],
   "source": [
    "x = np.array([3, 6, 2, 4])\n",
    "np.sum(x)"
   ]
  },
  {
   "cell_type": "code",
   "execution_count": null,
   "metadata": {
    "collapsed": false
   },
   "outputs": [],
   "source": [
    "x = np.array([3, 6, 2, 4])\n",
    "x.sum()"
   ]
  },
  {
   "cell_type": "code",
   "execution_count": null,
   "metadata": {
    "collapsed": false
   },
   "outputs": [],
   "source": [
    "X = np.array([[1, 2, 3], [4, 5, 6], [7, 8, 9]])\n",
    "printbl(X)\n",
    "printbl(\"Reduction applied on the flattened array :\", np.sum(X))\n",
    "printbl(\"Reduction applied on columns (first dimension) :\", np.sum(X, axis=0))\n",
    "printbl(\"Reduction applied on rows (second dimension) :\", np.sum(X, axis=1))"
   ]
  },
  {
   "cell_type": "code",
   "execution_count": null,
   "metadata": {
    "collapsed": false
   },
   "outputs": [],
   "source": [
    "x = np.random.randn(100)\n",
    "printbl(x > 0)\n",
    "print((x > 0).sum())"
   ]
  },
  {
   "cell_type": "code",
   "execution_count": null,
   "metadata": {
    "collapsed": false
   },
   "outputs": [],
   "source": [
    "x = np.random.randn(100)\n",
    "print((x > 0).any())\n",
    "print((x > 0).all())\n",
    "print(np.all(x > 0))"
   ]
  },
  {
   "cell_type": "markdown",
   "metadata": {},
   "source": [
    "### Sorting and Searching (see [here](http://docs.scipy.org/doc/numpy/reference/routines.sort.html))"
   ]
  },
  {
   "cell_type": "code",
   "execution_count": null,
   "metadata": {
    "collapsed": false
   },
   "outputs": [],
   "source": [
    "x = np.random.randn(1000)\n",
    "print(np.sort(x)[-1])\n",
    "print(np.max(x))"
   ]
  },
  {
   "cell_type": "code",
   "execution_count": null,
   "metadata": {
    "collapsed": false
   },
   "outputs": [],
   "source": [
    "x = np.random.randn(4, 4)\n",
    "printbl(x)\n",
    "np.where(x > 0, 2, -2)"
   ]
  },
  {
   "cell_type": "code",
   "execution_count": 24,
   "metadata": {
    "collapsed": false
   },
   "outputs": [
    {
     "name": "stdout",
     "output_type": "stream",
     "text": [
      "[[ 0.8649845  -0.57787118  1.1669295  -0.18859483]\n",
      " [-0.30814512  0.35604261  0.11837965  1.31835478]\n",
      " [ 0.13628133  0.50856257 -0.54906956 -2.37669084]\n",
      " [-1.00578199  0.90912859  0.31637662  0.78891847]] \n",
      "\n"
     ]
    },
    {
     "data": {
      "text/plain": [
       "array([[ 0.8649845 ,  0.        ,  1.1669295 ,  0.        ],\n",
       "       [ 0.        ,  0.35604261,  0.11837965,  1.31835478],\n",
       "       [ 0.13628133,  0.50856257,  0.        ,  0.        ],\n",
       "       [ 0.        ,  0.90912859,  0.31637662,  0.78891847]])"
      ]
     },
     "execution_count": 24,
     "metadata": {},
     "output_type": "execute_result"
    }
   ],
   "source": [
    "x = np.random.randn(4, 4)\n",
    "printbl(x)\n",
    "np.where(x < 0, 0, x)"
   ]
  },
  {
   "cell_type": "code",
   "execution_count": null,
   "metadata": {
    "collapsed": false
   },
   "outputs": [],
   "source": [
    "X = np.random.randn(2,5) * 0.1 + 10\n",
    "printbl(X)\n",
    "printbl(np.argmin(X)) # returns the index in the flattened array\n",
    "printbl(np.argmin(X, axis=0)) # indices with respect to the first axis\n",
    "printbl(np.argmin(X, axis=1)) # indices with respect to the second axis"
   ]
  },
  {
   "cell_type": "markdown",
   "metadata": {},
   "source": [
    "## Exercises"
   ]
  },
  {
   "cell_type": "markdown",
   "metadata": {},
   "source": [
    "##### Compare the performance of the sum of  elements of `np.arange(1000)` (with the `sum()` mathematical function) and `range(1000)` (with a standard python for loop)."
   ]
  },
  {
   "cell_type": "code",
   "execution_count": 19,
   "metadata": {
    "collapsed": false
   },
   "outputs": [
    {
     "name": "stdout",
     "output_type": "stream",
     "text": [
      "100 loops, best of 3: 6.5 µs per loop\n",
      "100 loops, best of 3: 63.6 µs per loop\n"
     ]
    }
   ],
   "source": [
    "a = np.arange(1000)\n",
    "l = range(1000)\n",
    "\n",
    "def sum(values):\n",
    "    result = 0\n",
    "    for x in values:\n",
    "        result += x\n",
    "    return result\n",
    "          \n",
    "%timeit -n 100 a.sum()\n",
    "          \n",
    "%timeit -n 100 sum(l)"
   ]
  },
  {
   "cell_type": "markdown",
   "metadata": {},
   "source": [
    "##### Without the use of control flow statements, replace all the values of the following matrix that are not in the interval $[\\mu - \\sigma, \\mu + \\sigma]$ by 0 (see, [statistics](http://docs.scipy.org/doc/numpy/reference/routines.statistics.html)). "
   ]
  },
  {
   "cell_type": "code",
   "execution_count": 20,
   "metadata": {
    "collapsed": false,
    "scrolled": true
   },
   "outputs": [
    {
     "name": "stdout",
     "output_type": "stream",
     "text": [
      "[[-0.1423538   1.01766101  0.52074133  0.71368905]\n",
      " [-0.20493649  0.8428626   0.57244673 -1.01043541]\n",
      " [ 1.20353007 -0.05262754 -0.43606724 -1.52972834]\n",
      " [ 0.54434396  0.31045628 -1.65921094 -0.4619554 ]\n",
      " [-0.28898584 -0.51119908 -0.73459905  0.2737211 ]]\n",
      "\n",
      "-0.832149700285 0.728884999105\n",
      "\n",
      "[[False  True False False]\n",
      " [False  True False  True]\n",
      " [ True False False  True]\n",
      " [False False  True False]\n",
      " [False False False False]]\n",
      "\n",
      "[[-0.1423538   0.          0.52074133  0.71368905]\n",
      " [-0.20493649  0.          0.57244673  0.        ]\n",
      " [ 0.         -0.05262754 -0.43606724  0.        ]\n",
      " [ 0.54434396  0.31045628  0.         -0.4619554 ]\n",
      " [-0.28898584 -0.51119908 -0.73459905  0.2737211 ]]\n"
     ]
    }
   ],
   "source": [
    "X = np.random.randn(5, 4)\n",
    "\n",
    "mu = np.mean(X)\n",
    "sigma = np.std(X)\n",
    "\n",
    "print(X)\n",
    "print()\n",
    "print(mu - sigma, mu + sigma)\n",
    "print()\n",
    "print((X < mu - sigma) | (X > mu + sigma))\n",
    "print()\n",
    "X[(X < mu - sigma) | (X > mu + sigma)] = 0\n",
    "print(X)"
   ]
  },
  {
   "cell_type": "markdown",
   "metadata": {},
   "source": [
    "##### Write a function to compute the median of the following two arrays without the use of [numpy.median](http://docs.scipy.org/doc/numpy-dev/reference/generated/numpy.median.html). Compare your result with the value returned by numpy.median."
   ]
  },
  {
   "cell_type": "code",
   "execution_count": 49,
   "metadata": {
    "collapsed": false
   },
   "outputs": [
    {
     "name": "stdout",
     "output_type": "stream",
     "text": [
      "median(x) :  0.0185640733614 , np.median(x) :  0.0185640733614\n",
      "median(y) :  -0.0179651714079 , np.median(y) :  -0.0179651714079\n"
     ]
    }
   ],
   "source": [
    "def median(data):\n",
    "    data_sorted = np.sort(data)\n",
    "    N = len(data)\n",
    "    if N % 2 == 0:\n",
    "        return (data_sorted[N//2] + data_sorted[N//2 - 1])/2\n",
    "    else:\n",
    "        return data_sorted[(N-1)//2]\n",
    "    \n",
    "x = np.random.randn(1001)\n",
    "\n",
    "print(\"median(x) : \", median(x), \", np.median(x) : \", np.median(x))\n",
    "\n",
    "y = np.random.randn(1000)\n",
    "\n",
    "print(\"median(y) : \", median(y), \", np.median(y) : \", np.median(y))"
   ]
  },
  {
   "cell_type": "markdown",
   "metadata": {},
   "source": [
    "##### Without the use of control flow statements, determine the indices along the two axis of the first maximal element in the following matrix. "
   ]
  },
  {
   "cell_type": "code",
   "execution_count": 25,
   "metadata": {
    "collapsed": false
   },
   "outputs": [
    {
     "name": "stdout",
     "output_type": "stream",
     "text": [
      "[[-0.65330199  0.45225231 -1.27331789 -0.1301628  -0.82672211 -0.62960899]\n",
      " [-0.4683208   0.2987837   0.76995255 -1.21531748  0.09583014  1.08351725]\n",
      " [-1.64091733  2.24213101 -1.93945314  1.43317031  1.51253038  0.06602565]\n",
      " [ 0.98333064 -0.39082467 -1.53162966  0.16416276 -0.21216178 -0.12039642]\n",
      " [-0.35861653  0.65433522 -1.99533313 -1.1610564   1.63707743 -0.41328294]] \n",
      "\n",
      "[3 2 1 2 4 1] \n",
      "\n",
      "[1 5 1 0 4] \n",
      "\n"
     ]
    }
   ],
   "source": [
    "X = np.random.randn(5, 6)\n",
    "printbl(X)\n",
    "printbl(np.argmax(X, axis=0))\n",
    "printbl(np.argmax(X, axis=1))"
   ]
  },
  {
   "cell_type": "markdown",
   "metadata": {},
   "source": [
    "##### Without the use of control flow statements, compute the mean of each variable from the following data matrix (D) (see, [numpy.mean](http://docs.scipy.org/doc/numpy/reference/generated/numpy.mean.html#numpy.mean))."
   ]
  },
  {
   "cell_type": "code",
   "execution_count": 28,
   "metadata": {
    "collapsed": false
   },
   "outputs": [
    {
     "name": "stdout",
     "output_type": "stream",
     "text": [
      "[[-2.4231729  -1.55526647  0.43656102 -0.43308689]\n",
      " [ 1.98674531 -0.34774328  1.00215135  0.29923331]\n",
      " [ 0.04520217  2.90045961 -0.12915044  0.95073434]\n",
      " [-0.02243467  0.83017809 -1.44464407 -0.49617365]\n",
      " [ 0.4979592   1.30107059 -0.70749505  0.08647056]] \n",
      "\n",
      "Data from variable 0 : [-2.4231729   1.98674531  0.04520217 -0.02243467  0.4979592 ] (mean : 0.016859821833481458) \n",
      "\n",
      "Data from variable 1 : [-1.55526647 -0.34774328  2.90045961  0.83017809  1.30107059] (mean : 0.6257397099924633) \n",
      "\n",
      "Data from variable 2 : [ 0.43656102  1.00215135 -0.12915044 -1.44464407 -0.70749505] (mean : -0.16851543750969616) \n",
      "\n",
      "Data from variable 3 : [-0.43308689  0.29923331  0.95073434 -0.49617365  0.08647056] (mean : 0.08143553457556865) \n",
      "\n"
     ]
    },
    {
     "data": {
      "text/plain": [
       "array([ 0.01685982,  0.62573971, -0.16851544,  0.08143553])"
      ]
     },
     "execution_count": 28,
     "metadata": {},
     "output_type": "execute_result"
    }
   ],
   "source": [
    "D = np.random.randn(5, 4)\n",
    "\n",
    "printbl(D)\n",
    "\n",
    "for i in range(4):\n",
    "    data_i = D[:,i]\n",
    "    printbl(\"Data from variable {} : {} (mean : {})\".format(i, data_i, np.mean(data_i)))\n",
    "    \n",
    "np.mean(D, axis=0)"
   ]
  },
  {
   "cell_type": "markdown",
   "metadata": {},
   "source": [
    "###### What is the difference between [np.random.randn()](http://docs.scipy.org/doc/numpy/reference/generated/numpy.random.randn.html) and [np.random.rand()](http://docs.scipy.org/doc/numpy/reference/generated/numpy.random.rand.html) ?"
   ]
  },
  {
   "cell_type": "markdown",
   "metadata": {},
   "source": [
    "###### Use routines from numpy.linalg (see [Linear algebra](http://docs.scipy.org/doc/numpy/reference/routines.linalg.html)) to solve the following system of equations (from [System of linear equations ](https://en.wikipedia.org/wiki/System_of_linear_equations)) :  $$ \\begin{alignat}{7} 3x &&\\; + \\;&& 2y             &&\\; - \\;&& z  &&\\; = \\;&& 1 & \\\\ 2x &&\\; - \\;&& 2y             &&\\; + \\;&& 4z &&\\; = \\;&& -2 & \\\\ -x &&\\; + \\;&& \\tfrac{1}{2} y &&\\; - \\;&& z  &&\\; = \\;&& 0 & \\end{alignat} $$"
   ]
  },
  {
   "cell_type": "code",
   "execution_count": 21,
   "metadata": {
    "collapsed": false
   },
   "outputs": [
    {
     "name": "stdout",
     "output_type": "stream",
     "text": [
      "[ 1. -2. -2.]\n"
     ]
    }
   ],
   "source": [
    "A = np.array([[3, 2, -1],\n",
    "              [2, -2, 4],\n",
    "              [-1, 0.5, -1]])\n",
    "\n",
    "b = np.array([1, -2, 0])\n",
    "\n",
    "x = np.linalg.solve(A, b)\n",
    "\n",
    "print(x)"
   ]
  },
  {
   "cell_type": "markdown",
   "metadata": {},
   "source": [
    "###### Complete the following code by using routines from [numpy.linalg](http://docs.scipy.org/doc/numpy/reference/routines.linalg.html) to determine a line of equation $y = mx + p$ that fits the given data points."
   ]
  },
  {
   "cell_type": "code",
   "execution_count": 6,
   "metadata": {
    "collapsed": false
   },
   "outputs": [
    {
     "name": "stdout",
     "output_type": "stream",
     "text": [
      "100\n"
     ]
    },
    {
     "data": {
      "text/plain": [
       "[<matplotlib.lines.Line2D at 0x7fca85602d68>]"
      ]
     },
     "execution_count": 6,
     "metadata": {},
     "output_type": "execute_result"
    },
    {
     "data": {
      "image/png": "[encoded data removed]",
      "text/plain": [
       "<matplotlib.figure.Figure at 0x7fca85b36048>"
      ]
     },
     "metadata": {},
     "output_type": "display_data"
    }
   ],
   "source": [
    "import numpy as np\n",
    "%matplotlib inline\n",
    "import matplotlib.pyplot as plt\n",
    "\n",
    "x = np.arange(-0.5, 0.5, 0.01)\n",
    "y = (2 * x + 3) + np.random.randn(100) * 0.1\n",
    "\n",
    "plt.plot(x, y, 'o', label='Original data', markersize=5)\n",
    "\n",
    "A = np.array([x, np.ones(100)]).T\n",
    "m, p = np.linalg.lstsq(A, y)[0]\n",
    "\n",
    "plt.plot(x, m*x + p, 'r', label='Fitted line')"
   ]
  }
 ],
 "metadata": {
  "anaconda-cloud": {},
  "kernelspec": {
   "display_name": "Python [conda env:datascience]",
   "language": "python",
   "name": "conda-env-datascience-py"
  },
  "language_info": {
   "codemirror_mode": {
    "name": "ipython",
    "version": 3
   },
   "file_extension": ".py",
   "mimetype": "text/x-python",
   "name": "python",
   "nbconvert_exporter": "python",
   "pygments_lexer": "ipython3",
   "version": "3.5.2"
  }
 },
 "nbformat": 4,
 "nbformat_minor": 0
}
