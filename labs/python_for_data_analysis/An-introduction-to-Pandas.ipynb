{
 "cells": [
  {
   "cell_type": "markdown",
   "metadata": {},
   "source": [
    "# An introduction to Pandas"
   ]
  },
  {
   "cell_type": "markdown",
   "metadata": {},
   "source": [
    "This package provides fundamental *routines* and *data structures* for doing **data analysis** and **manipulation** in Python. It is built on top of NumPy."
   ]
  },
  {
   "cell_type": "code",
   "execution_count": 1,
   "metadata": {
    "collapsed": false
   },
   "outputs": [],
   "source": [
    "import pandas as pd\n",
    "import numpy as np"
   ]
  },
  {
   "cell_type": "markdown",
   "metadata": {},
   "source": [
    "## References\n",
    "\n",
    "* Python for Data Analysis, Chapter 5, by Wes McKinney, O'REILLY\n",
    "* [Pandas documentation](http://pandas.pydata.org/pandas-docs/stable/)"
   ]
  },
  {
   "cell_type": "markdown",
   "metadata": {},
   "source": [
    "## Data Structures"
   ]
  },
  {
   "cell_type": "markdown",
   "metadata": {},
   "source": [
    "### Series"
   ]
  },
  {
   "cell_type": "markdown",
   "metadata": {},
   "source": [
    "This data structure is a one-dimensional ndarray with axis labels."
   ]
  },
  {
   "cell_type": "code",
   "execution_count": 2,
   "metadata": {
    "collapsed": false
   },
   "outputs": [
    {
     "name": "stdout",
     "output_type": "stream",
     "text": [
      "2016-09-26 11:06:05.413896    19.832868\n",
      "2016-09-26 13:06:05.413896    20.574309\n",
      "2016-09-26 15:06:05.413896    19.667799\n",
      "2016-09-26 17:06:05.413896    19.885485\n",
      "2016-09-26 19:06:05.413896    20.617621\n",
      "2016-09-26 21:06:05.413896    20.575514\n",
      "2016-09-26 23:06:05.413896    20.484648\n",
      "2016-09-27 01:06:05.413896    19.737442\n",
      "2016-09-27 03:06:05.413896    19.808588\n",
      "2016-09-27 05:06:05.413896    19.595753\n",
      "Freq: 2H, dtype: float64\n"
     ]
    }
   ],
   "source": [
    "from datetime import datetime\n",
    "\n",
    "dates = pd.date_range(start=datetime.now(), periods=10, freq='2H') # Frequency : 2 hours (2H)\n",
    "temperatures = np.random.randn(len(dates)) * 0.5 + 20\n",
    "x = pd.Series(index=dates, data=temperatures)\n",
    "\n",
    "print(x)"
   ]
  },
  {
   "cell_type": "code",
   "execution_count": null,
   "metadata": {
    "collapsed": false
   },
   "outputs": [],
   "source": [
    "x.index.name = 'Date time'\n",
    "x.name = 'Temperatures'\n",
    "print(x)"
   ]
  },
  {
   "cell_type": "code",
   "execution_count": null,
   "metadata": {
    "collapsed": false
   },
   "outputs": [],
   "source": [
    "obj = pd.Series([4, 7, -5, 3])\n",
    "print(obj)"
   ]
  },
  {
   "cell_type": "code",
   "execution_count": null,
   "metadata": {
    "collapsed": false
   },
   "outputs": [],
   "source": [
    "obj[1:3] = 22\n",
    "print(obj)"
   ]
  },
  {
   "cell_type": "code",
   "execution_count": null,
   "metadata": {
    "collapsed": false
   },
   "outputs": [],
   "source": [
    "obj2 = pd.Series([4, 7, -5, 3], index=['d', 'b', 'a', 'c'])\n",
    "print(obj2)"
   ]
  },
  {
   "cell_type": "code",
   "execution_count": null,
   "metadata": {
    "collapsed": false
   },
   "outputs": [],
   "source": [
    "print(\"obj2['a'] : \", obj2['a'])\n",
    "obj2[['c', 'a']] = 0\n",
    "print(obj2)"
   ]
  },
  {
   "cell_type": "code",
   "execution_count": null,
   "metadata": {
    "collapsed": false
   },
   "outputs": [],
   "source": [
    "obj2[1:3] = 22\n",
    "print(obj2)"
   ]
  },
  {
   "cell_type": "code",
   "execution_count": null,
   "metadata": {
    "collapsed": false
   },
   "outputs": [],
   "source": [
    "'b' in obj2"
   ]
  },
  {
   "cell_type": "code",
   "execution_count": null,
   "metadata": {
    "collapsed": false
   },
   "outputs": [],
   "source": [
    "'f' in obj2"
   ]
  },
  {
   "cell_type": "code",
   "execution_count": null,
   "metadata": {
    "collapsed": false
   },
   "outputs": [],
   "source": [
    "obj3 = pd.Series([4, 7, -5, 3], index=['d', 'b', 'a', 'c'])\n",
    "print((obj3 > 0) & (obj3 < 5))"
   ]
  },
  {
   "cell_type": "code",
   "execution_count": null,
   "metadata": {
    "collapsed": false
   },
   "outputs": [],
   "source": [
    "obj3[(obj3 > 0) & (obj3 < 5)]"
   ]
  },
  {
   "cell_type": "code",
   "execution_count": null,
   "metadata": {
    "collapsed": false
   },
   "outputs": [],
   "source": [
    "obj3 * 2"
   ]
  },
  {
   "cell_type": "code",
   "execution_count": null,
   "metadata": {
    "collapsed": false
   },
   "outputs": [],
   "source": [
    "np.exp(obj3)"
   ]
  },
  {
   "cell_type": "code",
   "execution_count": null,
   "metadata": {
    "collapsed": false
   },
   "outputs": [],
   "source": [
    "print(id(np.exp(obj3)), id(obj3))"
   ]
  },
  {
   "cell_type": "code",
   "execution_count": null,
   "metadata": {
    "collapsed": false
   },
   "outputs": [],
   "source": [
    "obj4 = pd.Series({'Ohio': 35000, 'Texas': 71000, 'Oregon': 16000, 'Utah': 5000})\n",
    "print(obj4)"
   ]
  },
  {
   "cell_type": "markdown",
   "metadata": {},
   "source": [
    "Missing values appear as `NaN` (not a number) :"
   ]
  },
  {
   "cell_type": "code",
   "execution_count": null,
   "metadata": {
    "collapsed": false
   },
   "outputs": [],
   "source": [
    "data = {'Ohio': 35000, 'Texas': 71000, 'Oregon': 16000, 'Utah': 5000}\n",
    "states = ['California', 'Ohio', 'Oregon', 'Texas']\n",
    "obj5 = pd.Series(data, index=states)\n",
    "print(obj5)"
   ]
  },
  {
   "cell_type": "code",
   "execution_count": null,
   "metadata": {
    "collapsed": false
   },
   "outputs": [],
   "source": [
    "pd.isnull(obj5)"
   ]
  },
  {
   "cell_type": "code",
   "execution_count": null,
   "metadata": {
    "collapsed": false
   },
   "outputs": [],
   "source": [
    "obj5[pd.notnull(obj5)]"
   ]
  },
  {
   "cell_type": "markdown",
   "metadata": {},
   "source": [
    "### DataFrame"
   ]
  },
  {
   "cell_type": "markdown",
   "metadata": {},
   "source": [
    "A DataFrame is a data structure used as **data matrices**, i.e., a collection of columns, one for each variable. For example, with three columns and five rows:"
   ]
  },
  {
   "cell_type": "code",
   "execution_count": 3,
   "metadata": {
    "collapsed": false
   },
   "outputs": [
    {
     "name": "stdout",
     "output_type": "stream",
     "text": [
      "   pop   state  year\n",
      "0  1.5    Ohio  2000\n",
      "1  1.7    Ohio  2001\n",
      "2  3.6    Ohio  2002\n",
      "3  2.4  Nevada  2001\n",
      "4  2.9  Nevada  2002\n"
     ]
    }
   ],
   "source": [
    "data = {'state': ['Ohio', 'Ohio', 'Ohio', 'Nevada', 'Nevada'], \n",
    "        'year': [2000, 2001, 2002, 2001, 2002],\n",
    "        'pop': [1.5, 1.7, 3.6, 2.4, 2.9]}\n",
    "frame = pd.DataFrame(data)\n",
    "print(frame)"
   ]
  },
  {
   "cell_type": "markdown",
   "metadata": {},
   "source": [
    "Specify columns orders and rows labels:"
   ]
  },
  {
   "cell_type": "code",
   "execution_count": null,
   "metadata": {
    "collapsed": false
   },
   "outputs": [],
   "source": [
    "frame2 = pd.DataFrame(data, \n",
    "                     columns=['year', 'state', 'pop'],\n",
    "                     index=['one', 'two', 'three', 'four', 'five'])\n",
    "print(frame2)"
   ]
  },
  {
   "cell_type": "code",
   "execution_count": null,
   "metadata": {
    "collapsed": false
   },
   "outputs": [],
   "source": [
    "frame2['state']"
   ]
  },
  {
   "cell_type": "code",
   "execution_count": null,
   "metadata": {
    "collapsed": false
   },
   "outputs": [],
   "source": [
    "type(frame2['state'])"
   ]
  },
  {
   "cell_type": "code",
   "execution_count": null,
   "metadata": {
    "collapsed": false
   },
   "outputs": [],
   "source": [
    "frame2.loc['three']"
   ]
  },
  {
   "cell_type": "code",
   "execution_count": null,
   "metadata": {
    "collapsed": false
   },
   "outputs": [],
   "source": [
    "frame2['dept'] = 16.5\n",
    "print(frame2)"
   ]
  },
  {
   "cell_type": "code",
   "execution_count": null,
   "metadata": {
    "collapsed": false
   },
   "outputs": [],
   "source": [
    "frame2.loc['three', 'dept'] = 4.2\n",
    "print(frame2)"
   ]
  },
  {
   "cell_type": "code",
   "execution_count": null,
   "metadata": {
    "collapsed": false
   },
   "outputs": [],
   "source": [
    "frame2.iloc[1, 2] = 0.87\n",
    "print(frame2)"
   ]
  },
  {
   "cell_type": "code",
   "execution_count": null,
   "metadata": {
    "collapsed": false
   },
   "outputs": [],
   "source": [
    "frame2['var'] = np.arange(5)\n",
    "print(frame2)"
   ]
  },
  {
   "cell_type": "code",
   "execution_count": null,
   "metadata": {
    "collapsed": false
   },
   "outputs": [],
   "source": [
    "val = pd.Series([-1.2, -1.5, -1.7], index=['two', 'four', 'five'])\n",
    "frame2['dept'] = val\n",
    "print(frame2)"
   ]
  },
  {
   "cell_type": "code",
   "execution_count": null,
   "metadata": {
    "collapsed": false
   },
   "outputs": [],
   "source": [
    "frame2['eastern'] = frame2.state == 'Ohio'\n",
    "print(frame2)\n",
    "del frame2['eastern']\n",
    "print(frame2)"
   ]
  },
  {
   "cell_type": "markdown",
   "metadata": {},
   "source": [
    "## Exercises"
   ]
  },
  {
   "cell_type": "markdown",
   "metadata": {},
   "source": [
    "Based on [pandas-datareader](http://pandas.pydata.org/pandas-docs/stable/remote_data.html), retrieve data about MSFT and AAPL and GOOG indices for the three last months. "
   ]
  },
  {
   "cell_type": "code",
   "execution_count": 118,
   "metadata": {
    "collapsed": false
   },
   "outputs": [
    {
     "name": "stdout",
     "output_type": "stream",
     "text": [
      "Help on function DataReader in module pandas_datareader.data:\n",
      "\n",
      "DataReader(name, data_source=None, start=None, end=None, retry_count=3, pause=0.001, session=None)\n",
      "    Imports data from a number of online sources.\n",
      "    \n",
      "    Currently supports Yahoo! Finance, Google Finance, St. Louis FED (FRED)\n",
      "    and Kenneth French's data library.\n",
      "    \n",
      "    Parameters\n",
      "    ----------\n",
      "    name : str or list of strs\n",
      "        the name of the dataset. Some data sources (yahoo, google, fred) will\n",
      "        accept a list of names.\n",
      "    data_source: {str, None}\n",
      "        the data source (\"yahoo\", \"yahoo-actions\", \"google\", \"fred\", or \"ff\")\n",
      "    start : {datetime, None}\n",
      "        left boundary for range (defaults to 1/1/2010)\n",
      "    end : {datetime, None}\n",
      "        right boundary for range (defaults to today)\n",
      "    retry_count : {int, 3}\n",
      "        Number of times to retry query request.\n",
      "    pause : {numeric, 0.001}\n",
      "        Time, in seconds, to pause between consecutive queries of chunks. If\n",
      "        single value given for symbol, represents the pause between retries.\n",
      "    session : Session, default None\n",
      "            requests.sessions.Session instance to be used\n",
      "    \n",
      "    Examples\n",
      "    ----------\n",
      "    \n",
      "    # Data from Yahoo! Finance\n",
      "    gs = DataReader(\"GS\", \"yahoo\")\n",
      "    \n",
      "    # Corporate Actions (Dividend and Split Data) with ex-dates from Yahoo! Finance\n",
      "    gs = DataReader(\"GS\", \"yahoo-actions\")\n",
      "    \n",
      "    # Data from Google Finance\n",
      "    aapl = DataReader(\"AAPL\", \"google\")\n",
      "    \n",
      "    # Data from FRED\n",
      "    vix = DataReader(\"VIXCLS\", \"fred\")\n",
      "    \n",
      "    # Data from Fama/French\n",
      "    ff = DataReader(\"F-F_Research_Data_Factors\", \"famafrench\")\n",
      "    ff = DataReader(\"F-F_Research_Data_Factors_weekly\", \"famafrench\")\n",
      "    ff = DataReader(\"6_Portfolios_2x3\", \"famafrench\")\n",
      "    ff = DataReader(\"F-F_ST_Reversal_Factor\", \"famafrench\")\n",
      "\n"
     ]
    }
   ],
   "source": [
    "from pandas_datareader import data\n",
    "help(data.DataReader)"
   ]
  },
  {
   "cell_type": "code",
   "execution_count": 119,
   "metadata": {
    "collapsed": false
   },
   "outputs": [
    {
     "data": {
      "text/html": [
       "<div>\n",
       "<table border=\"1\" class=\"dataframe\">\n",
       "  <thead>\n",
       "    <tr style=\"text-align: right;\">\n",
       "      <th></th>\n",
       "      <th>Open</th>\n",
       "      <th>High</th>\n",
       "      <th>Low</th>\n",
       "      <th>Close</th>\n",
       "      <th>Volume</th>\n",
       "    </tr>\n",
       "    <tr>\n",
       "      <th>Date</th>\n",
       "      <th></th>\n",
       "      <th></th>\n",
       "      <th></th>\n",
       "      <th></th>\n",
       "      <th></th>\n",
       "    </tr>\n",
       "  </thead>\n",
       "  <tbody>\n",
       "    <tr>\n",
       "      <th>2015-12-28</th>\n",
       "      <td>107.59</td>\n",
       "      <td>107.69</td>\n",
       "      <td>106.18</td>\n",
       "      <td>106.82</td>\n",
       "      <td>26704210</td>\n",
       "    </tr>\n",
       "    <tr>\n",
       "      <th>2015-12-29</th>\n",
       "      <td>106.96</td>\n",
       "      <td>109.43</td>\n",
       "      <td>106.86</td>\n",
       "      <td>108.74</td>\n",
       "      <td>30931243</td>\n",
       "    </tr>\n",
       "    <tr>\n",
       "      <th>2015-12-30</th>\n",
       "      <td>108.58</td>\n",
       "      <td>108.70</td>\n",
       "      <td>107.18</td>\n",
       "      <td>107.32</td>\n",
       "      <td>25213777</td>\n",
       "    </tr>\n",
       "    <tr>\n",
       "      <th>2015-12-31</th>\n",
       "      <td>107.01</td>\n",
       "      <td>107.03</td>\n",
       "      <td>104.82</td>\n",
       "      <td>105.26</td>\n",
       "      <td>40912316</td>\n",
       "    </tr>\n",
       "    <tr>\n",
       "      <th>2016-01-04</th>\n",
       "      <td>102.61</td>\n",
       "      <td>105.37</td>\n",
       "      <td>102.00</td>\n",
       "      <td>105.35</td>\n",
       "      <td>67281190</td>\n",
       "    </tr>\n",
       "  </tbody>\n",
       "</table>\n",
       "</div>"
      ],
      "text/plain": [
       "              Open    High     Low   Close    Volume\n",
       "Date                                                \n",
       "2015-12-28  107.59  107.69  106.18  106.82  26704210\n",
       "2015-12-29  106.96  109.43  106.86  108.74  30931243\n",
       "2015-12-30  108.58  108.70  107.18  107.32  25213777\n",
       "2015-12-31  107.01  107.03  104.82  105.26  40912316\n",
       "2016-01-04  102.61  105.37  102.00  105.35  67281190"
      ]
     },
     "execution_count": 119,
     "metadata": {},
     "output_type": "execute_result"
    }
   ],
   "source": [
    "from dateutil.relativedelta import relativedelta\n",
    "\n",
    "all_data = {}\n",
    "\n",
    "start_date = datetime.today() - relativedelta(months=9)\n",
    "\n",
    "indices = ['AAPL', 'IBM', 'MSFT', 'GOOG']\n",
    "\n",
    "# ...\n",
    "    \n",
    "all_data['AAPL'].head()"
   ]
  },
  {
   "cell_type": "markdown",
   "metadata": {},
   "source": [
    "Create a dataframe that contains all the close columns for these stock indices. Save this dataframe to a comma-separated values (csv) file (see, [pandas.DataFrame.to_csv](http://pandas.pydata.org/pandas-docs/stable/generated/pandas.DataFrame.to_csv.html))."
   ]
  },
  {
   "cell_type": "code",
   "execution_count": 120,
   "metadata": {
    "collapsed": false
   },
   "outputs": [],
   "source": [
    "# ..."
   ]
  },
  {
   "cell_type": "markdown",
   "metadata": {},
   "source": [
    "Determine the days with maximal difference between Open and Close values for each stock (see, [idxmax](http://pandas.pydata.org/pandas-docs/stable/generated/pandas.DataFrame.idxmax.html) and [abs](http://pandas.pydata.org/pandas-docs/stable/generated/pandas.DataFrame.abs.html))."
   ]
  },
  {
   "cell_type": "code",
   "execution_count": 121,
   "metadata": {
    "collapsed": false
   },
   "outputs": [
    {
     "name": "stdout",
     "output_type": "stream",
     "text": [
      "AAPL  :  2016-01-05 00:00:00\n",
      "IBM  :  2016-02-10 00:00:00\n",
      "MSFT  :  2016-01-13 00:00:00\n",
      "GOOG  :  2016-02-03 00:00:00\n"
     ]
    }
   ],
   "source": [
    "# ..."
   ]
  },
  {
   "cell_type": "markdown",
   "metadata": {},
   "source": [
    "Translate columns names to another language (see, dataframe's column attribute)."
   ]
  },
  {
   "cell_type": "code",
   "execution_count": 132,
   "metadata": {
    "collapsed": false
   },
   "outputs": [],
   "source": [
    "# ..."
   ]
  },
  {
   "cell_type": "markdown",
   "metadata": {},
   "source": [
    "Create a new column named *profit* that indicates if the corresponding day is positive (i.e., when close is greater than the open value)."
   ]
  },
  {
   "cell_type": "code",
   "execution_count": 124,
   "metadata": {
    "collapsed": false
   },
   "outputs": [
    {
     "data": {
      "text/html": [
       "<div>\n",
       "<table border=\"1\" class=\"dataframe\">\n",
       "  <thead>\n",
       "    <tr style=\"text-align: right;\">\n",
       "      <th></th>\n",
       "      <th>Open</th>\n",
       "      <th>High</th>\n",
       "      <th>Low</th>\n",
       "      <th>Close</th>\n",
       "      <th>Volume</th>\n",
       "      <th>Profit</th>\n",
       "    </tr>\n",
       "    <tr>\n",
       "      <th>Date</th>\n",
       "      <th></th>\n",
       "      <th></th>\n",
       "      <th></th>\n",
       "      <th></th>\n",
       "      <th></th>\n",
       "      <th></th>\n",
       "    </tr>\n",
       "  </thead>\n",
       "  <tbody>\n",
       "    <tr>\n",
       "      <th>2015-12-28</th>\n",
       "      <td>107.59</td>\n",
       "      <td>107.69</td>\n",
       "      <td>106.18</td>\n",
       "      <td>106.82</td>\n",
       "      <td>26704210</td>\n",
       "      <td>False</td>\n",
       "    </tr>\n",
       "    <tr>\n",
       "      <th>2015-12-29</th>\n",
       "      <td>106.96</td>\n",
       "      <td>109.43</td>\n",
       "      <td>106.86</td>\n",
       "      <td>108.74</td>\n",
       "      <td>30931243</td>\n",
       "      <td>True</td>\n",
       "    </tr>\n",
       "    <tr>\n",
       "      <th>2015-12-30</th>\n",
       "      <td>108.58</td>\n",
       "      <td>108.70</td>\n",
       "      <td>107.18</td>\n",
       "      <td>107.32</td>\n",
       "      <td>25213777</td>\n",
       "      <td>False</td>\n",
       "    </tr>\n",
       "    <tr>\n",
       "      <th>2015-12-31</th>\n",
       "      <td>107.01</td>\n",
       "      <td>107.03</td>\n",
       "      <td>104.82</td>\n",
       "      <td>105.26</td>\n",
       "      <td>40912316</td>\n",
       "      <td>False</td>\n",
       "    </tr>\n",
       "    <tr>\n",
       "      <th>2016-01-04</th>\n",
       "      <td>102.61</td>\n",
       "      <td>105.37</td>\n",
       "      <td>102.00</td>\n",
       "      <td>105.35</td>\n",
       "      <td>67281190</td>\n",
       "      <td>True</td>\n",
       "    </tr>\n",
       "  </tbody>\n",
       "</table>\n",
       "</div>"
      ],
      "text/plain": [
       "              Open    High     Low   Close    Volume Profit\n",
       "Date                                                       \n",
       "2015-12-28  107.59  107.69  106.18  106.82  26704210  False\n",
       "2015-12-29  106.96  109.43  106.86  108.74  30931243   True\n",
       "2015-12-30  108.58  108.70  107.18  107.32  25213777  False\n",
       "2015-12-31  107.01  107.03  104.82  105.26  40912316  False\n",
       "2016-01-04  102.61  105.37  102.00  105.35  67281190   True"
      ]
     },
     "execution_count": 124,
     "metadata": {},
     "output_type": "execute_result"
    }
   ],
   "source": [
    "# ..."
   ]
  },
  {
   "cell_type": "markdown",
   "metadata": {},
   "source": [
    "Determine the top 10 days with highest close values for each stock (see, [sort_values](http://pandas.pydata.org/pandas-docs/stable/generated/pandas.DataFrame.sort_values.html))."
   ]
  },
  {
   "cell_type": "code",
   "execution_count": 125,
   "metadata": {
    "collapsed": false
   },
   "outputs": [
    {
     "name": "stdout",
     "output_type": "stream",
     "text": [
      "              Open    High     Low   Close     Volume Profit\n",
      "Date                                                        \n",
      "2016-09-16  115.12  116.13  114.04  114.92   79886911  False\n",
      "2016-09-22  114.35  114.94  114.00  114.62   31073984   True\n",
      "2016-09-19  115.19  116.18  113.25  113.58   47023046  False\n",
      "2016-09-20  113.05  114.12  112.51  113.57   34514269   True\n",
      "2016-09-21  113.85  113.99  112.44  113.55   36003185  False\n",
      "2016-09-23  114.42  114.79  111.55  112.71   52325882  False\n",
      "2016-04-14  111.62  112.39  111.33  112.10   25337435   True\n",
      "2016-04-13  110.80  112.34  110.80  112.04   32691799   True\n",
      "2016-09-14  108.73  113.03  108.60  111.77  112340318   True\n",
      "              Open    High     Low   Close   Volume Profit\n",
      "Date                                                      \n",
      "2016-08-05  162.00  163.51  161.57  163.50  3812370   True\n",
      "2016-07-25  162.00  162.88  161.75  162.65  2804578   True\n",
      "2016-07-26  162.65  163.60  161.37  162.12  2894559  False\n",
      "2016-08-10  162.19  162.66  161.96  162.08  2466675  False\n",
      "2016-07-22  160.78  162.17  160.48  162.07  2520077   True\n",
      "2016-08-08  162.73  163.27  161.58  162.04  3039306  False\n",
      "2016-08-12  163.19  163.46  161.52  161.95  2543079  False\n",
      "2016-08-15  162.40  162.97  161.78  161.88  2970415  False\n",
      "2016-07-27  162.12  162.57  161.18  161.83  2162680  False\n",
      "             Open   High    Low  Close    Volume Profit\n",
      "Date                                                   \n",
      "2016-08-09  58.17  58.50  58.02  58.20  16920721   True\n",
      "2016-08-25  57.88  58.29  57.78  58.17  18552579   True\n",
      "2016-08-15  58.01  58.50  57.96  58.12  19283902   True\n",
      "2016-08-29  58.18  58.60  58.10  58.10  16417207  False\n",
      "2016-08-08  58.06  58.08  57.78  58.06  19473499  False\n",
      "2016-08-26  58.28  58.70  57.69  58.03  20971202  False\n",
      "2016-08-10  58.16  58.32  57.82  58.02  15756913  False\n",
      "2016-08-05  57.65  58.21  57.45  57.96  29335221   True\n",
      "2016-08-24  57.80  58.04  57.72  57.95  18151506   True\n",
      "              Open    High     Low   Close   Volume Profit\n",
      "Date                                                      \n",
      "2016-09-23  786.59  788.93  784.15  786.90  1409481   True\n",
      "2016-08-11  785.00  789.75  782.97  784.85   975113  False\n",
      "2016-08-10  783.75  786.81  782.78  784.68   786363   True\n",
      "2016-08-09  781.10  788.94  780.57  784.26  1318894   True\n",
      "2016-08-12  781.50  783.40  780.40  783.22   740498   True\n",
      "2016-08-15  783.75  787.49  780.11  782.44   938186  False\n",
      "2016-08-05  773.78  783.04  772.34  782.22  1801205   True\n",
      "2016-08-08  782.00  782.63  778.09  781.76  1107857  False\n",
      "2016-09-07  780.00  782.73  776.20  780.35   894021   True\n"
     ]
    }
   ],
   "source": [
    "# ..."
   ]
  },
  {
   "cell_type": "markdown",
   "metadata": {},
   "source": [
    "Use [pandas.DataFrame.plot](http://pandas.pydata.org/pandas-docs/stable/generated/pandas.DataFrame.plot.html) and [pandas.DataFrame.hist](http://pandas.pydata.org/pandas-docs/stable/generated/pandas.DataFrame.hist.html) to visualize close and volume attributes for a given stock index."
   ]
  },
  {
   "cell_type": "code",
   "execution_count": 126,
   "metadata": {
    "collapsed": false
   },
   "outputs": [],
   "source": [
    "# ..."
   ]
  },
  {
   "cell_type": "markdown",
   "metadata": {},
   "source": [
    "Create a new dataframe that indicates for each stock if the gain was negative, small (<1), medium (<6), or large. For this purpose you are asked to use  of [pandas.DataFrame.apply](http://pandas.pydata.org/pandas-docs/stable/generated/pandas.DataFrame.apply.html)."
   ]
  },
  {
   "cell_type": "code",
   "execution_count": 127,
   "metadata": {
    "collapsed": false
   },
   "outputs": [
    {
     "data": {
      "text/html": [
       "<div>\n",
       "<table border=\"1\" class=\"dataframe\">\n",
       "  <thead>\n",
       "    <tr style=\"text-align: right;\">\n",
       "      <th></th>\n",
       "      <th>AAPL</th>\n",
       "      <th>GOOG</th>\n",
       "      <th>IBM</th>\n",
       "      <th>MSFT</th>\n",
       "    </tr>\n",
       "    <tr>\n",
       "      <th>Date</th>\n",
       "      <th></th>\n",
       "      <th></th>\n",
       "      <th></th>\n",
       "      <th></th>\n",
       "    </tr>\n",
       "  </thead>\n",
       "  <tbody>\n",
       "    <tr>\n",
       "      <th>2015-12-28</th>\n",
       "      <td>negative</td>\n",
       "      <td>large</td>\n",
       "      <td>negative</td>\n",
       "      <td>small</td>\n",
       "    </tr>\n",
       "    <tr>\n",
       "      <th>2015-12-29</th>\n",
       "      <td>medium</td>\n",
       "      <td>large</td>\n",
       "      <td>medium</td>\n",
       "      <td>small</td>\n",
       "    </tr>\n",
       "    <tr>\n",
       "      <th>2015-12-30</th>\n",
       "      <td>negative</td>\n",
       "      <td>negative</td>\n",
       "      <td>negative</td>\n",
       "      <td>negative</td>\n",
       "    </tr>\n",
       "    <tr>\n",
       "      <th>2015-12-31</th>\n",
       "      <td>negative</td>\n",
       "      <td>negative</td>\n",
       "      <td>negative</td>\n",
       "      <td>negative</td>\n",
       "    </tr>\n",
       "    <tr>\n",
       "      <th>2016-01-04</th>\n",
       "      <td>medium</td>\n",
       "      <td>negative</td>\n",
       "      <td>small</td>\n",
       "      <td>small</td>\n",
       "    </tr>\n",
       "  </tbody>\n",
       "</table>\n",
       "</div>"
      ],
      "text/plain": [
       "                AAPL      GOOG       IBM      MSFT\n",
       "Date                                              \n",
       "2015-12-28  negative     large  negative     small\n",
       "2015-12-29    medium     large    medium     small\n",
       "2015-12-30  negative  negative  negative  negative\n",
       "2015-12-31  negative  negative  negative  negative\n",
       "2016-01-04    medium  negative     small     small"
      ]
     },
     "execution_count": 127,
     "metadata": {},
     "output_type": "execute_result"
    }
   ],
   "source": [
    "# ..."
   ]
  },
  {
   "cell_type": "markdown",
   "metadata": {},
   "source": [
    "### Index Objects"
   ]
  },
  {
   "cell_type": "code",
   "execution_count": 129,
   "metadata": {
    "collapsed": false
   },
   "outputs": [
    {
     "name": "stdout",
     "output_type": "stream",
     "text": [
      "a    0\n",
      "b    1\n",
      "c    2\n",
      "dtype: int64\n",
      "\n",
      "Index(['a', 'b', 'c'], dtype='object')\n"
     ]
    }
   ],
   "source": [
    "x = pd.Series(range(3), index=['a', 'b', 'c'])\n",
    "print(x)\n",
    "print()\n",
    "print(x.index)"
   ]
  },
  {
   "cell_type": "markdown",
   "metadata": {},
   "source": [
    "What do you conclude from executing the following statement ?"
   ]
  },
  {
   "cell_type": "code",
   "execution_count": null,
   "metadata": {
    "collapsed": false
   },
   "outputs": [],
   "source": [
    "x.index[1] = 'd'"
   ]
  },
  {
   "cell_type": "code",
   "execution_count": null,
   "metadata": {
    "collapsed": false
   },
   "outputs": [],
   "source": [
    "'c' in x.index"
   ]
  },
  {
   "cell_type": "code",
   "execution_count": null,
   "metadata": {
    "collapsed": false
   },
   "outputs": [],
   "source": [
    "'d' in x.index"
   ]
  },
  {
   "cell_type": "code",
   "execution_count": null,
   "metadata": {
    "collapsed": false
   },
   "outputs": [],
   "source": [
    "y = x.reindex(['c', 'b', 'a'])\n",
    "print(y)"
   ]
  },
  {
   "cell_type": "code",
   "execution_count": null,
   "metadata": {
    "collapsed": false
   },
   "outputs": [],
   "source": [
    "x.reindex(['c', 'b', 'a'])\n",
    "print(x)"
   ]
  },
  {
   "cell_type": "code",
   "execution_count": null,
   "metadata": {
    "collapsed": false
   },
   "outputs": [],
   "source": [
    "y['a'] = 32\n",
    "print(x)"
   ]
  },
  {
   "cell_type": "code",
   "execution_count": null,
   "metadata": {
    "collapsed": false
   },
   "outputs": [],
   "source": [
    "x.reindex(['a', 'b', 'c', 'd', 'e'])"
   ]
  },
  {
   "cell_type": "markdown",
   "metadata": {},
   "source": [
    "Missing values can be handled as follows"
   ]
  },
  {
   "cell_type": "code",
   "execution_count": null,
   "metadata": {
    "collapsed": false
   },
   "outputs": [],
   "source": [
    "x.reindex(['a', 'b', 'c', 'd', 'e'], fill_value=0)"
   ]
  },
  {
   "cell_type": "markdown",
   "metadata": {},
   "source": [
    "## Exercises"
   ]
  },
  {
   "cell_type": "markdown",
   "metadata": {},
   "source": [
    "With Data Frames, the `reindex` method can be applied to rows and columns. Reorder the collumns of the following data frame (in alphabetical order) with the reindex method (see, [reindex](http://pandas.pydata.org/pandas-docs/stable/generated/pandas.DataFrame.reindex.html))."
   ]
  },
  {
   "cell_type": "code",
   "execution_count": 133,
   "metadata": {
    "collapsed": false
   },
   "outputs": [
    {
     "data": {
      "text/html": [
       "<div>\n",
       "<table border=\"1\" class=\"dataframe\">\n",
       "  <thead>\n",
       "    <tr style=\"text-align: right;\">\n",
       "      <th></th>\n",
       "      <th>California</th>\n",
       "      <th>Ohio</th>\n",
       "      <th>Texas</th>\n",
       "    </tr>\n",
       "  </thead>\n",
       "  <tbody>\n",
       "    <tr>\n",
       "      <th>a</th>\n",
       "      <td>2</td>\n",
       "      <td>0</td>\n",
       "      <td>1</td>\n",
       "    </tr>\n",
       "    <tr>\n",
       "      <th>c</th>\n",
       "      <td>5</td>\n",
       "      <td>3</td>\n",
       "      <td>4</td>\n",
       "    </tr>\n",
       "    <tr>\n",
       "      <th>d</th>\n",
       "      <td>8</td>\n",
       "      <td>6</td>\n",
       "      <td>7</td>\n",
       "    </tr>\n",
       "  </tbody>\n",
       "</table>\n",
       "</div>"
      ],
      "text/plain": [
       "   California  Ohio  Texas\n",
       "a           2     0      1\n",
       "c           5     3      4\n",
       "d           8     6      7"
      ]
     },
     "execution_count": 133,
     "metadata": {},
     "output_type": "execute_result"
    }
   ],
   "source": [
    "frame = pd.DataFrame(np.arange(9).reshape((3, 3)),\n",
    "                  index=['a', 'c', 'd'],\n",
    "                  columns=['Ohio', 'Texas', 'California'])\n",
    "# ..."
   ]
  },
  {
   "cell_type": "markdown",
   "metadata": {},
   "source": [
    "Add an index 'b' to the data frame with a value equal to 5 for each state."
   ]
  },
  {
   "cell_type": "code",
   "execution_count": 134,
   "metadata": {
    "collapsed": false
   },
   "outputs": [
    {
     "data": {
      "text/html": [
       "<div>\n",
       "<table border=\"1\" class=\"dataframe\">\n",
       "  <thead>\n",
       "    <tr style=\"text-align: right;\">\n",
       "      <th></th>\n",
       "      <th>Ohio</th>\n",
       "      <th>Texas</th>\n",
       "      <th>California</th>\n",
       "    </tr>\n",
       "  </thead>\n",
       "  <tbody>\n",
       "    <tr>\n",
       "      <th>a</th>\n",
       "      <td>0</td>\n",
       "      <td>1</td>\n",
       "      <td>2</td>\n",
       "    </tr>\n",
       "    <tr>\n",
       "      <th>c</th>\n",
       "      <td>3</td>\n",
       "      <td>4</td>\n",
       "      <td>5</td>\n",
       "    </tr>\n",
       "    <tr>\n",
       "      <th>d</th>\n",
       "      <td>6</td>\n",
       "      <td>7</td>\n",
       "      <td>8</td>\n",
       "    </tr>\n",
       "    <tr>\n",
       "      <th>b</th>\n",
       "      <td>5</td>\n",
       "      <td>5</td>\n",
       "      <td>5</td>\n",
       "    </tr>\n",
       "  </tbody>\n",
       "</table>\n",
       "</div>"
      ],
      "text/plain": [
       "   Ohio  Texas  California\n",
       "a     0      1           2\n",
       "c     3      4           5\n",
       "d     6      7           8\n",
       "b     5      5           5"
      ]
     },
     "execution_count": 134,
     "metadata": {},
     "output_type": "execute_result"
    }
   ],
   "source": [
    "# ..."
   ]
  },
  {
   "cell_type": "markdown",
   "metadata": {},
   "source": [
    "Use the `drop` method (see, [here](http://pandas.pydata.org/pandas-docs/stable/generated/pandas.DataFrame.drop.html)) to delete the two last columns of the dataframe. What is the purpose of the `inplace` parameter ?"
   ]
  },
  {
   "cell_type": "code",
   "execution_count": 135,
   "metadata": {
    "collapsed": false
   },
   "outputs": [
    {
     "data": {
      "text/html": [
       "<div>\n",
       "<table border=\"1\" class=\"dataframe\">\n",
       "  <thead>\n",
       "    <tr style=\"text-align: right;\">\n",
       "      <th></th>\n",
       "      <th>Ohio</th>\n",
       "    </tr>\n",
       "  </thead>\n",
       "  <tbody>\n",
       "    <tr>\n",
       "      <th>a</th>\n",
       "      <td>0</td>\n",
       "    </tr>\n",
       "    <tr>\n",
       "      <th>c</th>\n",
       "      <td>3</td>\n",
       "    </tr>\n",
       "    <tr>\n",
       "      <th>d</th>\n",
       "      <td>6</td>\n",
       "    </tr>\n",
       "  </tbody>\n",
       "</table>\n",
       "</div>"
      ],
      "text/plain": [
       "   Ohio\n",
       "a     0\n",
       "c     3\n",
       "d     6"
      ]
     },
     "execution_count": 135,
     "metadata": {},
     "output_type": "execute_result"
    }
   ],
   "source": [
    "# ..."
   ]
  },
  {
   "cell_type": "markdown",
   "metadata": {},
   "source": [
    "Why does the following sum yields to an instance of `Series` with `NaN` values ?"
   ]
  },
  {
   "cell_type": "code",
   "execution_count": null,
   "metadata": {
    "collapsed": false
   },
   "outputs": [],
   "source": [
    "s1 = pd.Series([7.3, -2.5, 3.4, 1.5], index=['a', 'c', 'd', 'e'])\n",
    "s2 = pd.Series([-2.1, 3.6, -1.5, 4, 3.1], index=['a', 'c', 'e', 'f', 'g'])\n",
    "s1 + s2"
   ]
  },
  {
   "cell_type": "markdown",
   "metadata": {},
   "source": [
    "Use the DataFrame's add method (see, [here](http://pandas.pydata.org/pandas-docs/stable/generated/pandas.DataFrame.add.html)) to add these two data frames so that missing values are replaced by `0` (see, [fillna](http://pandas.pydata.org/pandas-docs/stable/generated/pandas.DataFrame.fillna.html))."
   ]
  },
  {
   "cell_type": "code",
   "execution_count": null,
   "metadata": {
    "collapsed": false
   },
   "outputs": [],
   "source": [
    "df1 = pd.DataFrame(np.arange(9.).reshape((3, 3)),\n",
    "                   columns=list('bcd'),\n",
    "                   index=['Ohio', 'Texas', 'Colorado'])\n",
    "\n",
    "df2 = pd.DataFrame(np.arange(12.).reshape((4, 3)),\n",
    "                columns=list('bde'),\n",
    "                index=['Utah', 'Ohio', 'Texas', 'Oregon'])\n",
    "\n",
    "print(df1, '\\n', df2)"
   ]
  }
 ],
 "metadata": {
  "anaconda-cloud": {},
  "kernelspec": {
   "display_name": "Python [Root]",
   "language": "python",
   "name": "Python [Root]"
  },
  "language_info": {
   "codemirror_mode": {
    "name": "ipython",
    "version": 3
   },
   "file_extension": ".py",
   "mimetype": "text/x-python",
   "name": "python",
   "nbconvert_exporter": "python",
   "pygments_lexer": "ipython3",
   "version": "3.5.2"
  }
 },
 "nbformat": 4,
 "nbformat_minor": 0
}
