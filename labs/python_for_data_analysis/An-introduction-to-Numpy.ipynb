{
 "cells": [
  {
   "cell_type": "markdown",
   "metadata": {},
   "source": [
    "# Numpy"
   ]
  },
  {
   "cell_type": "markdown",
   "metadata": {},
   "source": [
    "Unlike Matlab or R, Python is a general purpose programming language that was not designed for scientific computing or data analysis. For this purpose, we have to use the well known NumPy (Numerical Python) package. "
   ]
  },
  {
   "cell_type": "code",
   "execution_count": 3,
   "metadata": {
    "collapsed": false
   },
   "outputs": [],
   "source": [
    "import numpy as np\n",
    "\n",
    "def printbl(*args):\n",
    "    print(*args, '\\n')"
   ]
  },
  {
   "cell_type": "markdown",
   "metadata": {},
   "source": [
    "## References\n",
    "\n",
    "* Python for Data Analysis, Chapter 4, by Wes McKinney, O'REILLY\n",
    "* [NumPy Reference](http://docs.scipy.org/doc/numpy-dev/reference/index.html)"
   ]
  },
  {
   "cell_type": "markdown",
   "metadata": {},
   "source": [
    "## Multidimensional Array : ndarray"
   ]
  },
  {
   "cell_type": "markdown",
   "metadata": {},
   "source": [
    "Execute and explain (with comments) what follows. Compare the following thow cells. What do you conclude from this ?"
   ]
  },
  {
   "cell_type": "code",
   "execution_count": 4,
   "metadata": {
    "collapsed": false
   },
   "outputs": [
    {
     "name": "stdout",
     "output_type": "stream",
     "text": [
      "<class 'list'>\n",
      "<class 'int'>\n",
      "<class 'float'>\n"
     ]
    }
   ],
   "source": [
    "data1 = [6, 7.5, 8, 0, 1] \n",
    "print(type(data1))\n",
    "print(type(data1[0]))\n",
    "print(type(data1[1]))"
   ]
  },
  {
   "cell_type": "code",
   "execution_count": 5,
   "metadata": {
    "collapsed": false
   },
   "outputs": [
    {
     "name": "stdout",
     "output_type": "stream",
     "text": [
      "<class 'numpy.ndarray'>\n",
      "<class 'numpy.float64'>\n",
      "<class 'numpy.float64'>\n"
     ]
    }
   ],
   "source": [
    "data2 = np.array([6, 7.5, 8, 0, 1])\n",
    "print(type(data2))\n",
    "print(type(data2[0]))\n",
    "print(type(data2[1]))"
   ]
  },
  {
   "cell_type": "markdown",
   "metadata": {},
   "source": [
    "Compare the following thow cells. What do you conclude from this ?"
   ]
  },
  {
   "cell_type": "code",
   "execution_count": 6,
   "metadata": {
    "collapsed": false
   },
   "outputs": [
    {
     "data": {
      "text/plain": [
       "[6, 7.5, 8, 0, 1, 6, 7.5, 8, 0, 1]"
      ]
     },
     "execution_count": 6,
     "metadata": {},
     "output_type": "execute_result"
    }
   ],
   "source": [
    "data1 * 2"
   ]
  },
  {
   "cell_type": "code",
   "execution_count": 7,
   "metadata": {
    "collapsed": false
   },
   "outputs": [
    {
     "data": {
      "text/plain": [
       "array([ 12.,  15.,  16.,   0.,   2.])"
      ]
     },
     "execution_count": 7,
     "metadata": {},
     "output_type": "execute_result"
    }
   ],
   "source": [
    "data2 * 2"
   ]
  },
  {
   "cell_type": "markdown",
   "metadata": {},
   "source": [
    "What is the number of dimensions of the `ndarray` referred by `data4`?"
   ]
  },
  {
   "cell_type": "code",
   "execution_count": 8,
   "metadata": {
    "collapsed": false
   },
   "outputs": [
    {
     "name": "stdout",
     "output_type": "stream",
     "text": [
      "[[1, 2, 3] [4, 5]]\n",
      "(2,)\n",
      "<class 'list'>\n",
      "[ [1, 2, 3, 1, 2, 3, 1, 2, 3, 1, 2, 3, 1, 2, 3, 1, 2, 3, 1, 2, 3, 1, 2, 3, 1, 2, 3, 1, 2, 3]\n",
      " [4, 5, 4, 5, 4, 5, 4, 5, 4, 5, 4, 5, 4, 5, 4, 5, 4, 5, 4, 5]]\n"
     ]
    }
   ],
   "source": [
    "data3 = [[1, 2, 3], [4, 5]]\n",
    "data4 = np.array([[1, 2, 3], [4, 5]])\n",
    "print(data4)\n",
    "print(data4.shape)\n",
    "print(type(data4[0]))\n",
    "print(data4*10)"
   ]
  },
  {
   "cell_type": "markdown",
   "metadata": {},
   "source": [
    "What is the number of dimensions of the `ndarray` referred by `data5`?"
   ]
  },
  {
   "cell_type": "code",
   "execution_count": 9,
   "metadata": {
    "collapsed": false
   },
   "outputs": [
    {
     "name": "stdout",
     "output_type": "stream",
     "text": [
      "[[1 2 3]\n",
      " [4 5 6]]\n",
      "(2, 3)\n",
      "<class 'numpy.ndarray'>\n",
      "[[10 20 30]\n",
      " [40 50 60]]\n"
     ]
    }
   ],
   "source": [
    "data5 = np.array([[1, 2, 3], [4, 5, 6]])\n",
    "print(data5)\n",
    "print(data5.shape)\n",
    "print(type(data5[0]))\n",
    "print(data5*10)\n"
   ]
  },
  {
   "cell_type": "markdown",
   "metadata": {},
   "source": [
    "What is the shape of the following `ndarray` ?"
   ]
  },
  {
   "cell_type": "code",
   "execution_count": 10,
   "metadata": {
    "collapsed": false
   },
   "outputs": [
    {
     "name": "stdout",
     "output_type": "stream",
     "text": [
      "2\n"
     ]
    }
   ],
   "source": [
    "data6 = np.array([[1, 2, 3], [4, 5, 6], [4, 5, 6], [4, 5, 6]])\n",
    "print(data6.ndim)"
   ]
  },
  {
   "cell_type": "markdown",
   "metadata": {},
   "source": [
    "### Indexing"
   ]
  },
  {
   "cell_type": "code",
   "execution_count": 11,
   "metadata": {
    "collapsed": false
   },
   "outputs": [
    {
     "name": "stdout",
     "output_type": "stream",
     "text": [
      "140170017398576\n",
      "[0 1 8 8 8 8 8 7 8 9]\n",
      "140170017398576\n"
     ]
    }
   ],
   "source": [
    "x = np.arange(10)\n",
    "print(id(x))\n",
    "x[2:7] = 8.6\n",
    "print(x)\n",
    "print(id(x))"
   ]
  },
  {
   "cell_type": "code",
   "execution_count": 12,
   "metadata": {
    "collapsed": false
   },
   "outputs": [
    {
     "name": "stdout",
     "output_type": "stream",
     "text": [
      "[ 0.   1.   8.6  8.6  8.6  8.6  8.6  7.   8.   9. ]\n",
      "[ 1.2  1.2  1.2  1.2  1.2  1.2  1.2  1.2  1.2  1.2]\n"
     ]
    }
   ],
   "source": [
    "x = np.arange(10, dtype=np.float64)\n",
    "x[2:7] = 8.6\n",
    "print(x)\n",
    "x[:] = 1.2\n",
    "print(x)"
   ]
  },
  {
   "cell_type": "code",
   "execution_count": 13,
   "metadata": {
    "collapsed": false
   },
   "outputs": [
    {
     "name": "stdout",
     "output_type": "stream",
     "text": [
      "3\n",
      "3\n"
     ]
    }
   ],
   "source": [
    "arr2d = np.array([[1, 2, 3], [4, 5, 6], [7, 8, 9]])\n",
    "print(arr2d[0][2])\n",
    "print(arr2d[0, 2])"
   ]
  },
  {
   "cell_type": "code",
   "execution_count": 14,
   "metadata": {
    "collapsed": false
   },
   "outputs": [
    {
     "name": "stdout",
     "output_type": "stream",
     "text": [
      "[[1 2 3]\n",
      " [4 5 6]\n",
      " [7 8 9]]\n",
      "[[1 2 3]\n",
      " [4 5 6]\n",
      " [7 8 9]]\n"
     ]
    }
   ],
   "source": [
    "arr2d = np.array([[1, 2, 3], [4, 5, 6], [7, 8, 9]])\n",
    "print(arr2d)\n",
    "old_values = arr2d[0].copy()\n",
    "arr2d[0] = 42\n",
    "arr2d[0] = old_values\n",
    "print(arr2d)"
   ]
  },
  {
   "cell_type": "code",
   "execution_count": 15,
   "metadata": {
    "collapsed": false
   },
   "outputs": [
    {
     "name": "stdout",
     "output_type": "stream",
     "text": [
      "[[1 2 3]\n",
      " [4 5 6]\n",
      " [7 8 9]]\n",
      "[[42 42 42]\n",
      " [ 4  5  6]\n",
      " [ 7  8  9]]\n"
     ]
    }
   ],
   "source": [
    "arr2d = np.array([[1, 2, 3], [4, 5, 6], [7, 8, 9]])\n",
    "print(arr2d)\n",
    "old_values = arr2d[0]\n",
    "arr2d[0] = 42\n",
    "arr2d[0] = old_values\n",
    "print(arr2d)"
   ]
  },
  {
   "cell_type": "code",
   "execution_count": 16,
   "metadata": {
    "collapsed": false
   },
   "outputs": [
    {
     "name": "stdout",
     "output_type": "stream",
     "text": [
      "[[1 2 3]\n",
      " [4 5 6]\n",
      " [7 8 9]]\n",
      "[[1 2 7]\n",
      " [4 5 7]\n",
      " [7 8 7]]\n"
     ]
    }
   ],
   "source": [
    "arr2d = np.array([[1, 2, 3], [4, 5, 6], [7, 8, 9]])\n",
    "print(arr2d)\n",
    "arr2d[:, 2] = 7\n",
    "print(arr2d)"
   ]
  },
  {
   "cell_type": "markdown",
   "metadata": {},
   "source": [
    "### Boolean Indexing"
   ]
  },
  {
   "cell_type": "code",
   "execution_count": 17,
   "metadata": {
    "collapsed": false
   },
   "outputs": [
    {
     "name": "stdout",
     "output_type": "stream",
     "text": [
      "[[ 2.13995793  0.64098028 -0.38425839  0.47307753]\n",
      " [ 0.83363509 -0.2253946   0.68461507 -0.09032787]\n",
      " [-1.46337586 -0.25373862 -0.1933356  -0.4557746 ]\n",
      " [-0.26739707 -1.47420883  0.58219502  0.12256404]\n",
      " [ 0.88306807 -1.84701421 -1.20779229  2.1748726 ]\n",
      " [-1.54435312 -1.78176044  1.62107529  0.10021914]\n",
      " [ 1.87339652  0.05707006  0.59717053 -0.89781827]]\n",
      "[ True False False  True False False False]\n",
      "[[ 2.13995793  0.64098028 -0.38425839  0.47307753]\n",
      " [-0.26739707 -1.47420883  0.58219502  0.12256404]]\n",
      "[[ 2.13995793  0.64098028 -0.38425839  0.47307753]\n",
      " [-1.46337586 -0.25373862 -0.1933356  -0.4557746 ]\n",
      " [-0.26739707 -1.47420883  0.58219502  0.12256404]\n",
      " [ 0.88306807 -1.84701421 -1.20779229  2.1748726 ]]\n"
     ]
    }
   ],
   "source": [
    "names = np.array(['Bob', 'Joe', 'Will', 'Bob', 'Will', 'Joe', 'Joe'])\n",
    "data = np.random.randn(7, 4)\n",
    "print(data)\n",
    "print(names == 'Bob')\n",
    "print(data[names == 'Bob'])\n",
    "print(data[(names == 'Bob') | (names == 'Will')])"
   ]
  },
  {
   "cell_type": "code",
   "execution_count": 18,
   "metadata": {
    "collapsed": false
   },
   "outputs": [
    {
     "name": "stdout",
     "output_type": "stream",
     "text": [
      "[[ 0.72150197 -0.05426622  0.39527034 -3.04405579]\n",
      " [ 0.67537031 -0.37201629  0.56654202 -0.54725008]\n",
      " [ 0.15292982 -0.35257556  0.95466414  0.51294492]\n",
      " [ 0.8266292  -0.66835738  1.06710919 -0.03098061]\n",
      " [ 0.26203564  0.09570646  1.81320354 -2.69421281]\n",
      " [-2.197255   -0.49910637  0.02773755 -0.10141492]\n",
      " [-0.98152018 -0.76230036  1.03505704  0.6943345 ]]\n",
      "[[ 0.72150197  0.          0.39527034  0.        ]\n",
      " [ 0.67537031  0.          0.56654202  0.        ]\n",
      " [ 0.15292982  0.          0.95466414  0.51294492]\n",
      " [ 0.8266292   0.          1.06710919  0.        ]\n",
      " [ 0.26203564  0.09570646  1.81320354  0.        ]\n",
      " [ 0.          0.          0.02773755  0.        ]\n",
      " [ 0.          0.          1.03505704  0.6943345 ]]\n"
     ]
    }
   ],
   "source": [
    "data = np.random.randn(7, 4)\n",
    "print(data)\n",
    "data[data < 0] = 0\n",
    "print(data)"
   ]
  },
  {
   "cell_type": "markdown",
   "metadata": {},
   "source": [
    "### Transposing"
   ]
  },
  {
   "cell_type": "code",
   "execution_count": 19,
   "metadata": {
    "collapsed": false
   },
   "outputs": [
    {
     "name": "stdout",
     "output_type": "stream",
     "text": [
      "[[ 0  1  2  3  4]\n",
      " [ 5  6  7  8  9]\n",
      " [10 11 12 13 14]] \n",
      "\n",
      "[[ 0  5 10]\n",
      " [ 1  6 11]\n",
      " [ 2  7 12]\n",
      " [ 3  8 13]\n",
      " [ 4  9 14]]\n"
     ]
    }
   ],
   "source": [
    "X = np.arange(15).reshape((3, 5))\n",
    "printbl(X)\n",
    "print(X.T)"
   ]
  },
  {
   "cell_type": "markdown",
   "metadata": {},
   "source": [
    "### Swapping Axes"
   ]
  },
  {
   "cell_type": "code",
   "execution_count": 20,
   "metadata": {
    "collapsed": false
   },
   "outputs": [
    {
     "name": "stdout",
     "output_type": "stream",
     "text": [
      "[[ 0  1  2  3  4  5  6  7  8  9]\n",
      " [10 11 12 13 14 15 16 17 18 19]\n",
      " [20 21 22 23 24 25 26 27 28 29]]\n"
     ]
    },
    {
     "data": {
      "text/plain": [
       "array([[ 0, 10, 20],\n",
       "       [ 1, 11, 21],\n",
       "       [ 2, 12, 22],\n",
       "       [ 3, 13, 23],\n",
       "       [ 4, 14, 24],\n",
       "       [ 5, 15, 25],\n",
       "       [ 6, 16, 26],\n",
       "       [ 7, 17, 27],\n",
       "       [ 8, 18, 28],\n",
       "       [ 9, 19, 29]])"
      ]
     },
     "execution_count": 20,
     "metadata": {},
     "output_type": "execute_result"
    }
   ],
   "source": [
    "X = np.arange(30).reshape((3, 10))\n",
    "print(X)\n",
    "np.swapaxes(X, 0, 1)"
   ]
  },
  {
   "cell_type": "code",
   "execution_count": 21,
   "metadata": {
    "collapsed": false
   },
   "outputs": [
    {
     "name": "stdout",
     "output_type": "stream",
     "text": [
      "[ 6 16 26] \n",
      "\n",
      "[15 16 17 18 19]\n"
     ]
    },
    {
     "data": {
      "text/plain": [
       "array([15, 16, 17, 18, 19])"
      ]
     },
     "execution_count": 21,
     "metadata": {},
     "output_type": "execute_result"
    }
   ],
   "source": [
    "X = np.arange(30).reshape((3, 2, 5))\n",
    "printbl(X[:,1,1])\n",
    "print(X[1,1,:])\n",
    "np.swapaxes(X, 0, 2)[:,1,1]"
   ]
  },
  {
   "cell_type": "markdown",
   "metadata": {},
   "source": [
    "### Numerical operations (Elementwise)"
   ]
  },
  {
   "cell_type": "code",
   "execution_count": 22,
   "metadata": {
    "collapsed": false
   },
   "outputs": [
    {
     "name": "stdout",
     "output_type": "stream",
     "text": [
      "[[ 0.  0.  0.  0.  0.  0.]\n",
      " [ 0.  0.  0.  0.  0.  0.]\n",
      " [ 0.  0.  0.  0.  0.  0.]]\n",
      "\n",
      "[[ 3.  3.  3.  3.  3.  3.]\n",
      " [ 3.  3.  3.  3.  3.  3.]\n",
      " [ 3.  3.  3.  3.  3.  3.]]\n"
     ]
    }
   ],
   "source": [
    "X = np.zeros((3,6))\n",
    "print(X)\n",
    "\n",
    "print()\n",
    "\n",
    "X = X + 3\n",
    "print(X)"
   ]
  },
  {
   "cell_type": "code",
   "execution_count": 23,
   "metadata": {
    "collapsed": false
   },
   "outputs": [
    {
     "data": {
      "text/plain": [
       "array([[ 2.,  2.,  2.,  2.,  2.,  2.],\n",
       "       [ 2.,  2.,  2.,  2.,  2.,  2.],\n",
       "       [ 2.,  2.,  2.,  2.,  2.,  2.]])"
      ]
     },
     "execution_count": 23,
     "metadata": {},
     "output_type": "execute_result"
    }
   ],
   "source": [
    "Y = np.ones((3,6))\n",
    "X - Y"
   ]
  },
  {
   "cell_type": "code",
   "execution_count": 24,
   "metadata": {
    "collapsed": false
   },
   "outputs": [
    {
     "data": {
      "text/plain": [
       "array([ 2.,  4.,  6.,  3.])"
      ]
     },
     "execution_count": 24,
     "metadata": {},
     "output_type": "execute_result"
    }
   ],
   "source": [
    "x = np.array([1, 2, 3, 1.5])\n",
    "x * 2"
   ]
  },
  {
   "cell_type": "markdown",
   "metadata": {},
   "source": [
    "Let us compare the performance of these operations with Numpy and standard Python constructs :"
   ]
  },
  {
   "cell_type": "code",
   "execution_count": 25,
   "metadata": {
    "collapsed": false
   },
   "outputs": [
    {
     "name": "stdout",
     "output_type": "stream",
     "text": [
      "The slowest run took 29.47 times longer than the fastest. This could mean that an intermediate result is being cached.\n",
      "1000000 loops, best of 3: 925 ns per loop\n",
      "100000 loops, best of 3: 6.01 µs per loop\n"
     ]
    },
    {
     "data": {
      "text/plain": [
       "True"
      ]
     },
     "execution_count": 25,
     "metadata": {},
     "output_type": "execute_result"
    }
   ],
   "source": [
    "nparray = np.arange(100)\n",
    "%timeit nparray * 2\n",
    "\n",
    "pylist = range(100)\n",
    "%timeit [x * 2 for x in pylist]\n",
    "\n",
    "np.array_equal(nparray * 2, np.array([x * 2 for x in pylist]))"
   ]
  },
  {
   "cell_type": "code",
   "execution_count": 26,
   "metadata": {
    "collapsed": false
   },
   "outputs": [
    {
     "name": "stdout",
     "output_type": "stream",
     "text": [
      "[[ 0.  1.  1.]\n",
      " [ 1.  0.  1.]\n",
      " [ 1.  1.  0.]]\n"
     ]
    }
   ],
   "source": [
    "print(np.ones((3,3)) - np.identity(3))"
   ]
  },
  {
   "cell_type": "code",
   "execution_count": 27,
   "metadata": {
    "collapsed": false
   },
   "outputs": [],
   "source": [
    "empty_array = np.empty(8, dtype=np.float64)"
   ]
  },
  {
   "cell_type": "code",
   "execution_count": 28,
   "metadata": {
    "collapsed": false
   },
   "outputs": [
    {
     "name": "stdout",
     "output_type": "stream",
     "text": [
      "140170017437696\n",
      "[ 0  1  4  9 16 25 36 49 64 81]\n",
      "140170017437776\n",
      "[   0    1   16   81  256  625 1296 2401 4096 6561]\n"
     ]
    }
   ],
   "source": [
    "x = np.arange(10)\n",
    "x **= 2\n",
    "print(id(x))\n",
    "print(x)\n",
    "x = x ** 2\n",
    "print(id(x))\n",
    "print(x)"
   ]
  },
  {
   "cell_type": "code",
   "execution_count": 29,
   "metadata": {
    "collapsed": false
   },
   "outputs": [
    {
     "name": "stdout",
     "output_type": "stream",
     "text": [
      "[[ 0  1  2  3  4]\n",
      " [ 5  6  7  8  9]\n",
      " [10 11 12 13 14]] \n",
      "\n",
      "[[  0   1   4   9  16]\n",
      " [ 25  36  49  64  81]\n",
      " [100 121 144 169 196]] \n",
      "\n",
      "[[ 30  80 130]\n",
      " [ 80 255 430]\n",
      " [130 430 730]] \n",
      "\n",
      "[[ 0.          1.          1.41421356  1.73205081  2.        ]\n",
      " [ 2.23606798  2.44948974  2.64575131  2.82842712  3.        ]\n",
      " [ 3.16227766  3.31662479  3.46410162  3.60555128  3.74165739]] \n",
      "\n"
     ]
    }
   ],
   "source": [
    "X = np.arange(15).reshape((3, 5))\n",
    "printbl(X, )\n",
    "printbl(X * X) # Not matrix multiplication\n",
    "printbl(np.dot(X, X.T))\n",
    "printbl(np.sqrt(X))"
   ]
  },
  {
   "cell_type": "markdown",
   "metadata": {},
   "source": [
    "## Reductions"
   ]
  },
  {
   "cell_type": "markdown",
   "metadata": {},
   "source": [
    "Operations considered in this sections are known as reduction. In other words, these operations produce a single value from a 1D array."
   ]
  },
  {
   "cell_type": "code",
   "execution_count": 30,
   "metadata": {
    "collapsed": false
   },
   "outputs": [
    {
     "data": {
      "text/plain": [
       "15"
      ]
     },
     "execution_count": 30,
     "metadata": {},
     "output_type": "execute_result"
    }
   ],
   "source": [
    "x = np.array([3, 6, 2, 4])\n",
    "np.sum(x)"
   ]
  },
  {
   "cell_type": "code",
   "execution_count": 31,
   "metadata": {
    "collapsed": false
   },
   "outputs": [
    {
     "data": {
      "text/plain": [
       "15"
      ]
     },
     "execution_count": 31,
     "metadata": {},
     "output_type": "execute_result"
    }
   ],
   "source": [
    "x = np.array([3, 6, 2, 4])\n",
    "x.sum()"
   ]
  },
  {
   "cell_type": "code",
   "execution_count": 32,
   "metadata": {
    "collapsed": false
   },
   "outputs": [
    {
     "name": "stdout",
     "output_type": "stream",
     "text": [
      "[[1 2 3]\n",
      " [4 5 6]\n",
      " [7 8 9]] \n",
      "\n",
      "Reduction applied on the flattened array : 45 \n",
      "\n",
      "Reduction applied on columns (first dimension) : [12 15 18] \n",
      "\n",
      "Reduction applied on rows (second dimension) : [ 6 15 24] \n",
      "\n"
     ]
    }
   ],
   "source": [
    "X = np.array([[1, 2, 3], [4, 5, 6], [7, 8, 9]])\n",
    "printbl(X)\n",
    "printbl(\"Reduction applied on the flattened array :\", np.sum(X))\n",
    "printbl(\"Reduction applied on columns (first dimension) :\", np.sum(X, axis=0))\n",
    "printbl(\"Reduction applied on rows (second dimension) :\", np.sum(X, axis=1))"
   ]
  },
  {
   "cell_type": "code",
   "execution_count": 33,
   "metadata": {
    "collapsed": false
   },
   "outputs": [
    {
     "name": "stdout",
     "output_type": "stream",
     "text": [
      "[False  True False  True False False  True False  True  True False  True\n",
      " False  True  True  True False  True False  True  True  True False  True\n",
      "  True False  True False  True False False  True  True False False  True\n",
      " False False  True  True  True  True  True False  True  True  True  True\n",
      " False False False  True False  True False  True  True  True False False\n",
      "  True False False  True False False False False  True False  True  True\n",
      "  True  True  True False False False  True False False False  True False\n",
      " False  True  True  True False  True False  True False False False False\n",
      "  True False  True False] \n",
      "\n",
      "51\n"
     ]
    }
   ],
   "source": [
    "x = np.random.randn(100)\n",
    "printbl(x > 0)\n",
    "print((x > 0).sum())"
   ]
  },
  {
   "cell_type": "code",
   "execution_count": 34,
   "metadata": {
    "collapsed": false
   },
   "outputs": [
    {
     "name": "stdout",
     "output_type": "stream",
     "text": [
      "True\n",
      "False\n",
      "False\n"
     ]
    }
   ],
   "source": [
    "x = np.random.randn(100)\n",
    "print((x > 0).any())\n",
    "print((x > 0).all())\n",
    "print(np.all(x > 0))"
   ]
  },
  {
   "cell_type": "markdown",
   "metadata": {},
   "source": [
    "### Sorting and Searching (see [here](http://docs.scipy.org/doc/numpy/reference/routines.sort.html))"
   ]
  },
  {
   "cell_type": "code",
   "execution_count": 35,
   "metadata": {
    "collapsed": false
   },
   "outputs": [
    {
     "name": "stdout",
     "output_type": "stream",
     "text": [
      "3.23111332359\n",
      "3.23111332359\n"
     ]
    }
   ],
   "source": [
    "x = np.random.randn(1000)\n",
    "print(np.sort(x)[-1])\n",
    "print(np.max(x))"
   ]
  },
  {
   "cell_type": "code",
   "execution_count": 37,
   "metadata": {
    "collapsed": false
   },
   "outputs": [
    {
     "name": "stdout",
     "output_type": "stream",
     "text": [
      "[[-1.67179289 -0.42303667 -0.11649064  0.00899382]\n",
      " [ 0.20753813 -0.91188838 -1.84927231 -1.75064008]\n",
      " [-0.43366726  0.2594172  -0.97188587  1.2779212 ]\n",
      " [-1.00046396  1.75590491 -0.64423651  1.56043493]] \n",
      "\n"
     ]
    },
    {
     "data": {
      "text/plain": [
       "array([[-2, -2, -2,  2],\n",
       "       [ 2, -2, -2, -2],\n",
       "       [-2,  2, -2,  2],\n",
       "       [-2,  2, -2,  2]])"
      ]
     },
     "execution_count": 37,
     "metadata": {},
     "output_type": "execute_result"
    }
   ],
   "source": [
    "x = np.random.randn(4, 4)\n",
    "printbl(x)\n",
    "np.where(x > 0, 2, -2)"
   ]
  },
  {
   "cell_type": "code",
   "execution_count": 38,
   "metadata": {
    "collapsed": false
   },
   "outputs": [
    {
     "name": "stdout",
     "output_type": "stream",
     "text": [
      "[[ 0.63004782  0.81992702 -1.36257462  1.18731634]\n",
      " [-0.09587903 -3.5245056   0.20737558  0.24446436]\n",
      " [ 0.29482423  0.18538542 -1.00233878 -0.91695032]\n",
      " [ 0.07186758 -1.72589919 -1.16626341 -0.61493405]] \n",
      "\n"
     ]
    },
    {
     "data": {
      "text/plain": [
       "array([[ 0.63004782,  0.81992702,  0.        ,  1.18731634],\n",
       "       [ 0.        ,  0.        ,  0.20737558,  0.24446436],\n",
       "       [ 0.29482423,  0.18538542,  0.        ,  0.        ],\n",
       "       [ 0.07186758,  0.        ,  0.        ,  0.        ]])"
      ]
     },
     "execution_count": 38,
     "metadata": {},
     "output_type": "execute_result"
    }
   ],
   "source": [
    "x = np.random.randn(4, 4)\n",
    "printbl(x)\n",
    "np.where(x < 0, 0, x)"
   ]
  },
  {
   "cell_type": "code",
   "execution_count": 39,
   "metadata": {
    "collapsed": false
   },
   "outputs": [
    {
     "name": "stdout",
     "output_type": "stream",
     "text": [
      "[[  9.94944134   9.92349224   9.92214553  10.08975022   9.96569121]\n",
      " [  9.89177589   9.91495412  10.16007127  10.18374294   9.87387151]] \n",
      "\n",
      "9 \n",
      "\n",
      "[1 1 0 0 1] \n",
      "\n",
      "[2 4] \n",
      "\n"
     ]
    }
   ],
   "source": [
    "X = np.random.randn(2,5) * 0.1 + 10\n",
    "printbl(X)\n",
    "printbl(np.argmin(X)) # returns the index in the flattened array\n",
    "printbl(np.argmin(X, axis=0)) # indices with respect to the first axis\n",
    "printbl(np.argmin(X, axis=1)) # indices with respect to the second axis"
   ]
  },
  {
   "cell_type": "markdown",
   "metadata": {},
   "source": [
    "## Exercises"
   ]
  },
  {
   "cell_type": "markdown",
   "metadata": {},
   "source": [
    "##### Compare the performance of the sum of  elements of `np.arange(1000)` (with the `sum()` mathematical function) and `range(1000)` (with a standard python for loop)."
   ]
  },
  {
   "cell_type": "code",
   "execution_count": null,
   "metadata": {
    "collapsed": false
   },
   "outputs": [],
   "source": [
    "a = np.arange(1000)\n",
    "l = range(1000)"
   ]
  },
  {
   "cell_type": "markdown",
   "metadata": {},
   "source": [
    "##### Without the use of control flow statements, replace all the values of the following matrix that are not in the intervale $[\\mu - \\sigma, \\mu + \\sigma]$ by zero (see, [statistics](http://docs.scipy.org/doc/numpy/reference/routines.statistics.html)). "
   ]
  },
  {
   "cell_type": "code",
   "execution_count": null,
   "metadata": {
    "collapsed": false
   },
   "outputs": [],
   "source": [
    "X = np.random.randn(5, 4)"
   ]
  },
  {
   "cell_type": "markdown",
   "metadata": {},
   "source": [
    "##### Write a function to compute the median of the following two arrays without the use of [numpy.median](http://docs.scipy.org/doc/numpy-dev/reference/generated/numpy.median.html). Compare your result with the value returned by numpy.median."
   ]
  },
  {
   "cell_type": "code",
   "execution_count": null,
   "metadata": {
    "collapsed": false
   },
   "outputs": [],
   "source": [
    "x = np.random.randn(1001)\n",
    "y = np.random.randn(1000)"
   ]
  },
  {
   "cell_type": "markdown",
   "metadata": {},
   "source": [
    "##### Without the use of control flow statements, determine the indices along the two axis of the first maximal element in the following matrix. "
   ]
  },
  {
   "cell_type": "code",
   "execution_count": null,
   "metadata": {
    "collapsed": false
   },
   "outputs": [],
   "source": [
    "X = np.random.randn(5, 8)"
   ]
  },
  {
   "cell_type": "markdown",
   "metadata": {},
   "source": [
    "##### Without the use of control flow statements, compute the mean of each variable from the following data matrix (D) (see, [numpy.mean](http://docs.scipy.org/doc/numpy/reference/generated/numpy.mean.html#numpy.mean))."
   ]
  },
  {
   "cell_type": "code",
   "execution_count": null,
   "metadata": {
    "collapsed": false
   },
   "outputs": [],
   "source": [
    "D = np.random.randn(5, 4)\n",
    "\n",
    "print(D)\n",
    "\n",
    "for i in range(4):\n",
    "    data_i = D[:,i]\n",
    "    print(\"Data from variable {} : {} (mean : {})\".format(i, data_i, np.mean(data_i)))"
   ]
  },
  {
   "cell_type": "markdown",
   "metadata": {},
   "source": [
    "###### What is the difference between np.random.randn() and np.random.rand() ?"
   ]
  },
  {
   "cell_type": "markdown",
   "metadata": {},
   "source": [
    "###### Use routines from numpy.linalg (see [Linear algebra](http://docs.scipy.org/doc/numpy/reference/routines.linalg.html)) to solve the following system of equations (from [System of linear equations ](https://en.wikipedia.org/wiki/System_of_linear_equations)) :  $$ \\begin{alignat}{7} 3x &&\\; + \\;&& 2y             &&\\; - \\;&& z  &&\\; = \\;&& 1 & \\\\ 2x &&\\; - \\;&& 2y             &&\\; + \\;&& 4z &&\\; = \\;&& -2 & \\\\ -x &&\\; + \\;&& \\tfrac{1}{2} y &&\\; - \\;&& z  &&\\; = \\;&& 0 & \\end{alignat} $$"
   ]
  },
  {
   "cell_type": "markdown",
   "metadata": {},
   "source": [
    "###### Complete the following code by using routines from numpy.linalg to determine a line of equation $y = mx + p$ that fits the given data points."
   ]
  },
  {
   "cell_type": "code",
   "execution_count": null,
   "metadata": {
    "collapsed": false
   },
   "outputs": [],
   "source": [
    "import numpy as np\n",
    "%matplotlib inline\n",
    "import matplotlib.pyplot as plt\n",
    "\n",
    "x = np.arange(-0.5, 0.5, 0.01)\n",
    "y = (2 * x + 3) + np.random.randn(100) * 0.1\n",
    "\n",
    "plt.plot(x, y, 'o', label='Original data', markersize=5)\n",
    "    "
   ]
  }
 ],
 "metadata": {
  "anaconda-cloud": {},
  "kernelspec": {
   "display_name": "Python [Root]",
   "language": "python",
   "name": "Python [Root]"
  },
  "language_info": {
   "codemirror_mode": {
    "name": "ipython",
    "version": 3
   },
   "file_extension": ".py",
   "mimetype": "text/x-python",
   "name": "python",
   "nbconvert_exporter": "python",
   "pygments_lexer": "ipython3",
   "version": "3.5.2"
  }
 },
 "nbformat": 4,
 "nbformat_minor": 0
}
