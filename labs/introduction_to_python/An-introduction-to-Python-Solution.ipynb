{
 "cells": [
  {
   "cell_type": "markdown",
   "metadata": {},
   "source": [
    "Define a dictionary that contains the keys *odd*, *even*, and *prime* and values `[1, 3, 5, 7, 9]`, `[2, 4, 6, 8, 10]`, and `[2, 3, 5, 7]`. Then, add the values 11, 12, 13 and 14 to the corresponding lists."
   ]
  },
  {
   "cell_type": "code",
   "execution_count": 19,
   "metadata": {
    "collapsed": false
   },
   "outputs": [
    {
     "name": "stdout",
     "output_type": "stream",
     "text": [
      "{'prime': [2, 3, 5, 7], 'even': [2, 4, 6, 8, 10], 'odd': [1, 3, 5, 7, 9]}\n",
      "{'prime': [2, 3, 5, 7, 11, 13], 'even': [2, 4, 6, 8, 10, 12, 14], 'odd': [1, 3, 5, 7, 9, 11, 13]}\n"
     ]
    }
   ],
   "source": [
    "some_dict = { 'odd'   : [1, 3, 5, 7, 9],\n",
    "              'even'  : [2, 4, 6, 8, 10],\n",
    "              'prime' : [2, 3, 5, 7] }\n",
    "\n",
    "print(some_dict)\n",
    "\n",
    "some_dict['odd'].extend([11, 13])\n",
    "some_dict['even'].extend([12, 14])\n",
    "some_dict['prime'].extend([11, 13])\n",
    "\n",
    "print(some_dict)"
   ]
  },
  {
   "cell_type": "markdown",
   "metadata": {},
   "source": [
    "With the use of a single loop, complete the following program so that `words_freqs` contains words with frequencies of occurence from the list `word_list`."
   ]
  },
  {
   "cell_type": "code",
   "execution_count": 22,
   "metadata": {
    "collapsed": false
   },
   "outputs": [
    {
     "name": "stdout",
     "output_type": "stream",
     "text": [
      "{'simply': 18, 'dummy': 33, 'text': 49}\n"
     ]
    }
   ],
   "source": [
    "from random import sample\n",
    "\n",
    "word_set = {'simply', 'dummy', 'text'}\n",
    "\n",
    "word_list = []\n",
    "for i in range(100):\n",
    "    word_list.extend(sample(word_set, 1))\n",
    "    \n",
    "words_freqs = {}\n",
    "\n",
    "for word in word_list:\n",
    "    if word in words_freqs:\n",
    "        words_freqs[word] += 1\n",
    "    else:\n",
    "        words_freqs[word] = 1\n",
    "\n",
    "print(words_freqs)"
   ]
  },
  {
   "cell_type": "markdown",
   "metadata": {},
   "source": [
    "Write a function that computes the factorial of 100. What do you conclude from that. Compare with the result of googling \"100!\"."
   ]
  },
  {
   "cell_type": "code",
   "execution_count": 29,
   "metadata": {
    "collapsed": false
   },
   "outputs": [
    {
     "data": {
      "text/plain": [
       "True"
      ]
     },
     "execution_count": 29,
     "metadata": {},
     "output_type": "execute_result"
    }
   ],
   "source": [
    "import math \n",
    "\n",
    "def fact(n):\n",
    "    result = 1\n",
    "    for i in range(2, n + 1):\n",
    "        result *= i\n",
    "    return result\n",
    "\n",
    "fact(100) == math.factorial(100)"
   ]
  },
  {
   "cell_type": "markdown",
   "metadata": {},
   "source": [
    "Complete the following code to compute fibonacci numbers based on the use of first class functions :"
   ]
  },
  {
   "cell_type": "code",
   "execution_count": 1,
   "metadata": {
    "collapsed": false
   },
   "outputs": [
    {
     "name": "stdout",
     "output_type": "stream",
     "text": [
      "1 1 2 3\n"
     ]
    }
   ],
   "source": [
    "def fib():\n",
    "    f0 = 1\n",
    "    f1 = 1\n",
    "    def internal():\n",
    "        nonlocal f0, f1\n",
    "        tmp = f0\n",
    "        f0 = f1\n",
    "        f1 = tmp + f1\n",
    "        return tmp\n",
    "    return internal\n",
    "    \n",
    "f = fib()\n",
    "print(f(), f(), f(), f())"
   ]
  },
  {
   "cell_type": "markdown",
   "metadata": {},
   "source": [
    "* Combine map, all, and lambda to check if a given list contains only even numbers.\n",
    "* Use list comprehensions instead of maps to answer the previous question."
   ]
  },
  {
   "cell_type": "code",
   "execution_count": 2,
   "metadata": {
    "collapsed": false
   },
   "outputs": [
    {
     "name": "stdout",
     "output_type": "stream",
     "text": [
      "False\n",
      "True\n",
      "False\n",
      "True\n"
     ]
    }
   ],
   "source": [
    "is_even = lambda x : (x % 2) == 0\n",
    "li1 = [2, 4, 5, 6, 8]\n",
    "li2 = [2, 4, 6, 8]\n",
    "print(all(map(is_even, li1)))\n",
    "print(all(map(is_even, li2)))\n",
    "print(all([is_even(x) for x in li1]))\n",
    "print(all([is_even(x) for x in li2]))"
   ]
  }
 ],
 "metadata": {
  "anaconda-cloud": {},
  "kernelspec": {
   "display_name": "Python [Root]",
   "language": "python",
   "name": "Python [Root]"
  },
  "language_info": {
   "codemirror_mode": {
    "name": "ipython",
    "version": 3
   },
   "file_extension": ".py",
   "mimetype": "text/x-python",
   "name": "python",
   "nbconvert_exporter": "python",
   "pygments_lexer": "ipython3",
   "version": "3.5.2"
  }
 },
 "nbformat": 4,
 "nbformat_minor": 1
}
